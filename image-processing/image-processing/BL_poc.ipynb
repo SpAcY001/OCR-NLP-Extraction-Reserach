{
 "cells": [
  {
   "cell_type": "code",
   "execution_count": 3,
   "id": "144eda43-838a-4878-b68f-23ceec979925",
   "metadata": {},
   "outputs": [],
   "source": [
    "#!pip install fitz\n",
    "#!pip install pymupdf\n",
    "import boto3\n",
    "import fitz\n",
    "from io import BytesIO\n",
    "s3_client=boto3.client('s3')"
   ]
  },
  {
   "cell_type": "code",
   "execution_count": 4,
   "id": "68ce6e5c-c8ad-4e68-976d-4aefbccc2157",
   "metadata": {
    "tags": []
   },
   "outputs": [],
   "source": [
    "def is_pdf_openable(bucket,key):\n",
    "    try:\n",
    "        response=s3_client.get_object(Bucket=bucket,Key=key)\n",
    "        pdf_content=response['Body'].read()\n",
    "        doc=fitz.open(stream=BytesIO(pdf_content))\n",
    "        doc.close()\n",
    "        return True\n",
    "    except Exception as e:\n",
    "        print(f\"error opening {key}: {str(e)}\")\n",
    "        return False"
   ]
  },
  {
   "cell_type": "code",
   "execution_count": 27,
   "id": "6ecdf97f-37c9-44b9-829a-d83ced386ecc",
   "metadata": {
    "tags": []
   },
   "outputs": [],
   "source": [
    "page_dict=dict()"
   ]
  },
  {
   "cell_type": "code",
   "execution_count": 20,
   "id": "58fe056d-53be-4546-8cba-087d53b8cd56",
   "metadata": {
    "tags": []
   },
   "outputs": [],
   "source": [
    "def page_count_dictionary(pagenum):\n",
    "    if pagenum in page_dict:\n",
    "        page_dict[pagenum] += 1\n",
    "    else:\n",
    "        page_dict[pagenum] = 1"
   ]
  },
  {
   "cell_type": "code",
   "execution_count": 5,
   "id": "bc0b18a5-9b68-48b9-af3d-45a898bdedc5",
   "metadata": {
    "tags": []
   },
   "outputs": [
    {
     "name": "stdout",
     "output_type": "stream",
     "text": [
      "BondingLine_data/Identification 2/DACH/SE Austria_UniCredit Bank Austria_2006.pdf\n",
      "BondingLine_data/Identification 2/DACH/SE Austria_UniCredit Bank Austria_2014.pdf\n",
      "BondingLine_data/Identification 2/DACH/SE Austria_UniCredit Bank Austria_2016.pdf\n",
      "BondingLine_data/Identification 2/DACH/SE Austria_UniCredit Bank Austria_2018.pdf\n",
      "BondingLine_data/Identification 2/DACH/SE Gemany_Commerzbank_amendment nr._6_11.2016.pdf\n",
      "BondingLine_data/Identification 2/DACH/SE Gemany_HSBC_2022.pdf\n",
      "BondingLine_data/Identification 2/DACH/SE Gemany_HSBC_amendment1_2017.pdf\n",
      "BondingLine_data/Identification 2/DACH/SE Gemany_HSBC_amendment2_2018.pdf\n",
      "BondingLine_data/Identification 2/DACH/SE Gemany_HSBC_amendment3_2019.pdf\n",
      "BondingLine_data/Identification 2/DACH/SE Gemany_HSBC_amendment4_2019.pdf\n",
      "BondingLine_data/Identification 2/DACH/SE Gemany_Nordea_2016.pdf\n",
      "BondingLine_data/Identification 2/DACH/SE Germany_Deutsche Bank_Areva.pdf\n",
      "BondingLine_data/Identification 2/DACH/SE Switzerland_CH01_Deutsche Bank_amendment2_2022.pdf\n",
      "BondingLine_data/Identification 2/DACH/SE Switzerland_CH16_CIC_2020.pdf\n",
      "BondingLine_data/Identification 2/DACH/SE Switzerland_CH16_Credit Suisse_2014.pdf\n",
      "BondingLine_data/Identification 2/DACH/SE Switzerland_CH16_Credit Suisse_amendment2016.pdf\n",
      "BondingLine_data/Identification 2/DACH/SE Switzerland_UBS_2019.pdf\n",
      "BondingLine_data/Identification 2/France/SE France__Atradius_2010.pdf\n",
      "BondingLine_data/Identification 2/France/SE France__BNP_2017.pdf\n",
      "BondingLine_data/Identification 2/France/SE France__Societe Generale_2017.pdf\n",
      "BondingLine_data/Identification 2/France/SE France__Societe Generale_amendment_2018.pdf\n",
      "BondingLine_data/Identification 2/Indonesia/SE Indonesia_Citi_2013_part1.pdf\n",
      "BondingLine_data/Identification 2/Indonesia/SE Indonesia_Citi_2013_part2.pdf\n",
      "BondingLine_data/Identification 2/Indonesia/SE Indonesia_HSBC_amendment_2015.pdf\n",
      "BondingLine_data/Identification 2/Indonesia/SE Indonesia_JP Morgan Chase_2012.pdf\n",
      "BondingLine_data/Identification 2/Indonesia/SE Indonesia_JP Morgan Chase_2015.pdf\n",
      "BondingLine_data/Identification 2/Malaysia/SE Malaysia_Gutor_Citi_amendment_2013.pdf\n",
      "BondingLine_data/Identification 2/Malaysia/SE Malaysia_Standard Chartered_amendment_2014.pdf\n",
      "BondingLine_data/Identification 2/Malaysia/SE Malaysia__Citi_2011.pdf\n",
      "BondingLine_data/Identification 2/Malaysia/SE Malaysia__Deutsche Bank_2013.pdf\n",
      "BondingLine_data/Identification 2/Malaysia/SE Malaysia__Deutsche Bank_amendment_2015.pdf\n",
      "BondingLine_data/Identification 2/Malaysia/SE Malaysia__HSBC_2018.pdf\n",
      "BondingLine_data/Identification 2/Singapore/SE Singapore__Citi_2015.pdf\n",
      "BondingLine_data/Identification 2/Singapore/SE Singapore__Citi_amendment_2020.pdf\n",
      "BondingLine_data/Identification 2/Singapore/SE Singapore__Deutsche Bank_amendment_2015.pdf\n",
      "BondingLine_data/Identification 2/Singapore/SE Singapore__Deutsche Bank_amendment_2016.pdf\n",
      "BondingLine_data/Identification 2/UAE/SE UAE__HSBC_2015.pdf\n",
      "BondingLine_data/Identification 2/UAE/SE UAE__Standard Chartered_2016.pdf\n",
      "BondingLine_data/Identification 2/UK/SE UK_Barclays__facility_agreement.pdf\n",
      "BondingLine_data/Identification 2/UK/SE UK_Barclays__facility_agreement_amendment Nov2014.pdf\n",
      "BondingLine_data/Identification/BNP/Brazil/09023376_bnp_facility_signed_2018.pdf\n",
      "BondingLine_data/Identification/BNP/Brazil/Hong Kong/11101947_bnp_facility_letter_21dec_2018.pdf\n",
      "BondingLine_data/Identification/BNP/Brazil/Hong Kong/17191940_bnp_facility_letter_26_jun_2014.pdf\n",
      "BondingLine_data/Identification/BNP/France/12482610_bnp_solar_signed_version__se___bnp.pdf\n",
      "BondingLine_data/Identification/BNP/France/20221108120653_lettrecontregarantie_banqueparibas_10051994.do.pdf\n",
      "BondingLine_data/Identification/BNP/France/20221108120705_lettrecontregarantie_bnp_10051994.doc.pdf\n",
      "BondingLine_data/Identification/BNP/France/20221108120813_se_energy_france_conditions_cadre-fr-bnpp_schn.pdf\n",
      "BondingLine_data/Identification/BNP/France/20221108120847_sef_conditions_cadre-fr-bnpp_schneider_sign_e_.pdf\n",
      "BondingLine_data/Identification/BNP/France/20221108120923_sei_sas_conditions_cadre-fr-bnpp_schneider_sig.pdf\n",
      "BondingLine_data/Identification/BNP/Singapore/10551771_bnp_credit_facility_30m.pdf\n",
      "BondingLine_data/Identification/BNP/Singapore/11454438_bnp_indemnity_t_and_cs_june_2018.pdf\n",
      "BondingLine_data/Identification/BNP/Singapore/12304751_bnp_paribas_facility_letter_05082019.pdf\n",
      "BondingLine_data/Identification/BNP/Singapore/12382593_bnp_credit_facility_20m.pdf\n",
      "BondingLine_data/Identification/BNP/Singapore/18564899_bnp_credit_facility_19m-kallang_bldg_.pdf\n",
      "BondingLine_data/Identification/Citibank/Algeria/16433147_contrat_citi_2015.pdf\n",
      "BondingLine_data/Identification/Citibank/Algeria/17430437_img08479.pdf\n",
      "BondingLine_data/Identification/Citibank/India/10113677_credit_limit_enhancement_85_core.pdf\n",
      "BondingLine_data/Identification/Citibank/India/15304775_uploadfile_credit_limit_enhancement_200_crore.pdf\n",
      "BondingLine_data/Identification/Citibank/Netherlands/CITI_Netherlands.pdf\n",
      "BondingLine_data/Identification/Citibank/Perou/12200883_citibank_invensys_.pdf\n",
      "BondingLine_data/Identification/Citibank/Perou/12203875_citibank_invensys.pdf\n",
      "BondingLine_data/Identification/Citibank/Perou/12204571_citibank_schneider_agreement.pdf\n",
      "BondingLine_data/Identification/Citibank/Singapore/11101844_signed_fol_3_feb_2020.pdf\n",
      "BondingLine_data/Identification/Citibank/Singapore/18095155_citi_fol_br_-_singapore_-_01oct2015_-_signed.pdf\n",
      "BondingLine_data/Identification/DACH/2015-12-23 Guarantee Fac Agreement Gutor EUR 25 mn signed original in safe.pdf\n",
      "BondingLine_data/Identification/DACH/Germany_DE02_Commerzbank.pdf\n",
      "BondingLine_data/Identification/DACH/Germany_DE02_Deutsche Bank.pdf\n",
      "BondingLine_data/Identification/DACH/Germany_DE02_Deutsche Bank_amendment2021.pdf\n",
      "BondingLine_data/Identification/DACH/Germany_DE02_Deutsche Bank_amendment2022.pdf\n",
      "BondingLine_data/Identification/DACH/Germany_DE02_HSBC_2020.pdf\n",
      "BondingLine_data/Identification/DACH/Switzerland_CH16_Amendment.pdf\n",
      "BondingLine_data/Identification/Egypt/Egypt_EG01_CIB.pdf\n",
      "BondingLine_data/Identification/Egypt/Egypt_EG01_Credit Agricole.pdf\n",
      "BondingLine_data/Identification/Egypt/Egypt_EG01_HSBC.pdf\n",
      "BondingLine_data/Identification/HSBC/China/09130373_uploadfile_hsbc__fol__nov_2019.pdf\n",
      "BondingLine_data/Identification/HSBC/China/09543819_hscb__gtree_facility__all_china_entities__executed_dec_2015.pdf\n",
      "BondingLine_data/Identification/HSBC/China/09544624_invensys_china__hsbc__counter_indemnity__signed.pdf\n",
      "BondingLine_data/Identification/HSBC/China/09545258_invensys_china__hsbc__facility_letter_offer__signed.pdf\n",
      "BondingLine_data/Identification/HSBC/China/13233786_hsbc__fol__nov_2019.pdf\n",
      "BondingLine_data/Identification/HSBC/Egypt/17063290_hsbc.pdf\n",
      "BondingLine_data/Identification/HSBC/Germany/08403499_hsbc_3._amendment_04.2019.pdf\n",
      "BondingLine_data/Identification/HSBC/Germany/08521311_hsbc_2._nachtrag_kreditvertrag.pdf\n",
      "BondingLine_data/Identification/HSBC/Germany/10244241_hsbc_credit_line_until_30.11.2017.pdf\n",
      "BondingLine_data/Identification/HSBC/Germany/11391249_fichier_pdf.pdf\n",
      "BondingLine_data/Identification/HSBC/Germany/15271140_hsbc_credit_line_04.2020__002_.pdf\n",
      "BondingLine_data/Identification/HSBC/Germany/20220725172039_hsbc_kreditvertrag_2022.07.pdf\n",
      "BondingLine_data/Identification/HSBC/India/17291901_in20_hsbc.pdf\n",
      "BondingLine_data/Identification/HSBC/Malaysia/12455892_hsbc__fol_30.3.18.pdf\n",
      "BondingLine_data/Identification/HSBC/Qatar/12451230_hsbc_qatar_.pdf\n",
      "BondingLine_data/Identification/India/CA Facility letter.pdf\n",
      "BondingLine_data/Identification/India/CA_facility letter amnd 7 Jan 22.pdf\n",
      "BondingLine_data/Identification/India/HDFC_12.08.2022.pdf\n",
      "BondingLine_data/Identification/India/India_IN01_BNP.pdf\n",
      "BondingLine_data/Identification/India/India_IN01_BNP_2021.pdf\n",
      "BondingLine_data/Identification/India/India_IN07_Citibank.pdf\n",
      "BondingLine_data/Identification/India/India_IN07_Citibank_amendment2015.pdf\n",
      "BondingLine_data/Identification/India/India_IN07_Citibank_amendment2022.pdf\n",
      "BondingLine_data/Identification/India/India_IN20_BNP.pdf\n",
      "BondingLine_data/Identification/India/India_IN20_BNP_2021.pdf\n",
      "BondingLine_data/Identification/India/India_IN20_HSBC.pdf\n",
      "BondingLine_data/Identification/India/Renewal Letter 29.06.21 (002).pdf\n",
      "101\n"
     ]
    }
   ],
   "source": [
    "s3_client = boto3.client('s3')\n",
    "bucket_name = 's3sagemakerbucket'\n",
    "count=0\n",
    "pdf_files=[]\n",
    "def read_pdf_files_from_folder(folder_path):\n",
    "    global count\n",
    "    response = s3_client.list_objects_v2(Bucket=bucket_name, Prefix=folder_path)\n",
    "    for obj in response['Contents']:\n",
    "        if obj['Key'].endswith('.pdf'):\n",
    "            print(obj['Key'])\n",
    "            if is_pdf_openable(bucket_name,obj['Key']):\n",
    "                count=count+1\n",
    "                pdf_files.append(obj['Key'])\n",
    "            #print(obj['Key'].split('/')[-1])\n",
    "            # s3_client.download_file(bucket_name, obj['Key'], 'local_directory\\/' + obj['Key'])\n",
    "        else:\n",
    "            if obj['Key'].endswith('\\/'):\n",
    "                read_pdf_files_from_folder(obj['Key'])\n",
    "\n",
    "root_folder = 'BondingLine_data/'\n",
    "read_pdf_files_from_folder(root_folder)\n",
    "print(count)"
   ]
  },
  {
   "cell_type": "code",
   "execution_count": 8,
   "id": "1658b887-3f06-4e55-aa65-e0c01bf93892",
   "metadata": {
    "tags": []
   },
   "outputs": [
    {
     "data": {
      "text/plain": [
       "101"
      ]
     },
     "execution_count": 8,
     "metadata": {},
     "output_type": "execute_result"
    }
   ],
   "source": [
    "len(pdf_files)"
   ]
  },
  {
   "cell_type": "code",
   "execution_count": 9,
   "id": "6ac0a661-c94d-4a54-84a6-0a54677c53e4",
   "metadata": {
    "tags": []
   },
   "outputs": [],
   "source": [
    "!mkdir -p bondinglinefiles"
   ]
  },
  {
   "cell_type": "code",
   "execution_count": 10,
   "id": "1213ed1b-f911-4a03-8ae2-64acbd932244",
   "metadata": {
    "tags": []
   },
   "outputs": [],
   "source": [
    "for file in pdf_files:\n",
    "    s3_client.download_file(\"s3sagemakerbucket\",str(file),f\"bondinglinefiles/{file.split('/')[-1]}\",)"
   ]
  },
  {
   "cell_type": "code",
   "execution_count": 12,
   "id": "034db8ab-2403-4bd5-aba1-bd86d093bb36",
   "metadata": {
    "tags": []
   },
   "outputs": [
    {
     "name": "stdout",
     "output_type": "stream",
     "text": [
      "Collecting PyPDF2\n",
      "  Downloading pypdf2-3.0.1-py3-none-any.whl (232 kB)\n",
      "\u001b[2K     \u001b[90m━━━━━━━━━━━━━━━━━━━━━━━━━━━━━━━━━━━━━━━\u001b[0m \u001b[32m232.6/232.6 kB\u001b[0m \u001b[31m5.3 MB/s\u001b[0m eta \u001b[36m0:00:00\u001b[0ma \u001b[36m0:00:01\u001b[0m\n",
      "\u001b[?25hInstalling collected packages: PyPDF2\n",
      "Successfully installed PyPDF2-3.0.1\n",
      "\u001b[33mWARNING: Running pip as the 'root' user can result in broken permissions and conflicting behaviour with the system package manager. It is recommended to use a virtual environment instead: https://pip.pypa.io/warnings/venv\u001b[0m\u001b[33m\n",
      "\u001b[0m\n",
      "\u001b[1m[\u001b[0m\u001b[34;49mnotice\u001b[0m\u001b[1;39;49m]\u001b[0m\u001b[39;49m A new release of pip is available: \u001b[0m\u001b[31;49m23.2.1\u001b[0m\u001b[39;49m -> \u001b[0m\u001b[32;49m23.3.2\u001b[0m\n",
      "\u001b[1m[\u001b[0m\u001b[34;49mnotice\u001b[0m\u001b[1;39;49m]\u001b[0m\u001b[39;49m To update, run: \u001b[0m\u001b[32;49mpip install --upgrade pip\u001b[0m\n"
     ]
    }
   ],
   "source": [
    "!pip install PyPDF2\n",
    "from PyPDF2 import PdfReader, PdfWriter"
   ]
  },
  {
   "cell_type": "code",
   "execution_count": 28,
   "id": "08da7151-6089-44e1-8c06-63731d368b09",
   "metadata": {
    "tags": []
   },
   "outputs": [
    {
     "name": "stdout",
     "output_type": "stream",
     "text": [
      "no of pages :6\n",
      "no of pages :14\n",
      "no of pages :4\n",
      "no of pages :56\n",
      "no of pages :22\n",
      "no of pages :2\n",
      "no of pages :10\n",
      "no of pages :12\n",
      "no of pages :3\n",
      "no of pages :26\n",
      "no of pages :2\n",
      "no of pages :12\n",
      "no of pages :10\n",
      "no of pages :12\n",
      "no of pages :10\n",
      "no of pages :7\n",
      "no of pages :2\n",
      "no of pages :18\n",
      "no of pages :8\n",
      "no of pages :1\n",
      "no of pages :32\n",
      "no of pages :4\n",
      "no of pages :4\n",
      "no of pages :7\n",
      "no of pages :3\n",
      "no of pages :20\n",
      "no of pages :26\n",
      "no of pages :4\n",
      "no of pages :2\n",
      "no of pages :71\n",
      "no of pages :3\n",
      "no of pages :15\n",
      "no of pages :1\n",
      "no of pages :5\n",
      "no of pages :6\n",
      "no of pages :3\n",
      "no of pages :10\n",
      "no of pages :5\n",
      "no of pages :2\n",
      "no of pages :20\n",
      "no of pages :8\n",
      "no of pages :4\n",
      "no of pages :4\n",
      "no of pages :5\n",
      "no of pages :3\n",
      "no of pages :8\n",
      "no of pages :5\n",
      "no of pages :10\n",
      "no of pages :8\n",
      "no of pages :12\n",
      "no of pages :14\n",
      "no of pages :7\n",
      "no of pages :11\n",
      "no of pages :3\n",
      "no of pages :11\n",
      "no of pages :9\n",
      "no of pages :4\n",
      "no of pages :4\n",
      "no of pages :9\n",
      "no of pages :2\n",
      "no of pages :4\n",
      "no of pages :18\n",
      "no of pages :17\n",
      "no of pages :8\n",
      "no of pages :26\n",
      "no of pages :3\n",
      "no of pages :12\n",
      "no of pages :9\n",
      "no of pages :12\n",
      "no of pages :8\n",
      "no of pages :10\n",
      "no of pages :1\n",
      "no of pages :21\n",
      "no of pages :2\n",
      "no of pages :4\n",
      "no of pages :5\n",
      "no of pages :6\n",
      "no of pages :10\n",
      "no of pages :4\n",
      "no of pages :56\n",
      "no of pages :2\n",
      "no of pages :8\n",
      "no of pages :2\n",
      "no of pages :16\n",
      "no of pages :15\n",
      "no of pages :3\n",
      "no of pages :6\n",
      "no of pages :10\n",
      "no of pages :20\n",
      "no of pages :11\n",
      "no of pages :13\n",
      "no of pages :2\n",
      "no of pages :6\n",
      "no of pages :3\n",
      "no of pages :2\n",
      "no of pages :19\n",
      "no of pages :3\n",
      "no of pages :2\n",
      "no of pages :6\n",
      "no of pages :2\n",
      "no of pages :16\n",
      "extracted files :101\n"
     ]
    }
   ],
   "source": [
    "import os\n",
    "file_path=\"bondinglinefiles/\"\n",
    "extracted=0\n",
    "for filename in os.listdir(file_path):\n",
    "    inputpdf = PdfReader(open(f'bondinglinefiles/{filename}', \"rb\"))\n",
    "    print(f\"no of pages :{len(inputpdf.pages)}\")\n",
    "    page_count_dictionary(len(inputpdf.pages))\n",
    "    extracted+=1\n",
    "    \n",
    "print(f\"extracted files :{extracted}\")"
   ]
  },
  {
   "cell_type": "code",
   "execution_count": 29,
   "id": "a589be1b-e2ab-4e1d-a4cc-1d7d4bf07e42",
   "metadata": {
    "tags": []
   },
   "outputs": [
    {
     "name": "stdout",
     "output_type": "stream",
     "text": [
      "26\n"
     ]
    }
   ],
   "source": [
    "print(len(page_dict))"
   ]
  },
  {
   "cell_type": "code",
   "execution_count": 30,
   "id": "5e25f9b9-ba78-4efe-8328-7b0716beaa1f",
   "metadata": {
    "tags": []
   },
   "outputs": [
    {
     "name": "stdout",
     "output_type": "stream",
     "text": [
      "{6: 6, 14: 2, 4: 11, 56: 2, 22: 1, 2: 13, 10: 8, 12: 6, 3: 10, 26: 3, 7: 3, 18: 2, 8: 7, 1: 3, 32: 1, 20: 3, 71: 1, 15: 2, 5: 5, 11: 3, 9: 3, 17: 1, 21: 1, 16: 2, 13: 1, 19: 1}\n"
     ]
    }
   ],
   "source": [
    "print(page_dict)"
   ]
  },
  {
   "cell_type": "code",
   "execution_count": 32,
   "id": "1fb4d458-845b-4095-b872-a5371bda2492",
   "metadata": {
    "tags": []
   },
   "outputs": [
    {
     "name": "stdout",
     "output_type": "stream",
     "text": [
      "pdf with 6 pages : 6\n",
      "pdf with 14 pages : 2\n",
      "pdf with 4 pages : 11\n",
      "pdf with 56 pages : 2\n",
      "pdf with 22 pages : 1\n",
      "pdf with 2 pages : 13\n",
      "pdf with 10 pages : 8\n",
      "pdf with 12 pages : 6\n",
      "pdf with 3 pages : 10\n",
      "pdf with 26 pages : 3\n",
      "pdf with 7 pages : 3\n",
      "pdf with 18 pages : 2\n",
      "pdf with 8 pages : 7\n",
      "pdf with 1 pages : 3\n",
      "pdf with 32 pages : 1\n",
      "pdf with 20 pages : 3\n",
      "pdf with 71 pages : 1\n",
      "pdf with 15 pages : 2\n",
      "pdf with 5 pages : 5\n",
      "pdf with 11 pages : 3\n",
      "pdf with 9 pages : 3\n",
      "pdf with 17 pages : 1\n",
      "pdf with 21 pages : 1\n",
      "pdf with 16 pages : 2\n",
      "pdf with 13 pages : 1\n",
      "pdf with 19 pages : 1\n",
      "101\n"
     ]
    }
   ],
   "source": [
    "total=0\n",
    "for ind,val in page_dict.items():\n",
    "    print(f\"pdf with {ind} pages : {val}\") \n",
    "    total+=val\n",
    "print(total)"
   ]
  }
 ],
 "metadata": {
  "availableInstances": [
   {
    "_defaultOrder": 0,
    "_isFastLaunch": true,
    "category": "General purpose",
    "gpuNum": 0,
    "hideHardwareSpecs": false,
    "memoryGiB": 4,
    "name": "ml.t3.medium",
    "vcpuNum": 2
   },
   {
    "_defaultOrder": 1,
    "_isFastLaunch": false,
    "category": "General purpose",
    "gpuNum": 0,
    "hideHardwareSpecs": false,
    "memoryGiB": 8,
    "name": "ml.t3.large",
    "vcpuNum": 2
   },
   {
    "_defaultOrder": 2,
    "_isFastLaunch": false,
    "category": "General purpose",
    "gpuNum": 0,
    "hideHardwareSpecs": false,
    "memoryGiB": 16,
    "name": "ml.t3.xlarge",
    "vcpuNum": 4
   },
   {
    "_defaultOrder": 3,
    "_isFastLaunch": false,
    "category": "General purpose",
    "gpuNum": 0,
    "hideHardwareSpecs": false,
    "memoryGiB": 32,
    "name": "ml.t3.2xlarge",
    "vcpuNum": 8
   },
   {
    "_defaultOrder": 4,
    "_isFastLaunch": true,
    "category": "General purpose",
    "gpuNum": 0,
    "hideHardwareSpecs": false,
    "memoryGiB": 8,
    "name": "ml.m5.large",
    "vcpuNum": 2
   },
   {
    "_defaultOrder": 5,
    "_isFastLaunch": false,
    "category": "General purpose",
    "gpuNum": 0,
    "hideHardwareSpecs": false,
    "memoryGiB": 16,
    "name": "ml.m5.xlarge",
    "vcpuNum": 4
   },
   {
    "_defaultOrder": 6,
    "_isFastLaunch": false,
    "category": "General purpose",
    "gpuNum": 0,
    "hideHardwareSpecs": false,
    "memoryGiB": 32,
    "name": "ml.m5.2xlarge",
    "vcpuNum": 8
   },
   {
    "_defaultOrder": 7,
    "_isFastLaunch": false,
    "category": "General purpose",
    "gpuNum": 0,
    "hideHardwareSpecs": false,
    "memoryGiB": 64,
    "name": "ml.m5.4xlarge",
    "vcpuNum": 16
   },
   {
    "_defaultOrder": 8,
    "_isFastLaunch": false,
    "category": "General purpose",
    "gpuNum": 0,
    "hideHardwareSpecs": false,
    "memoryGiB": 128,
    "name": "ml.m5.8xlarge",
    "vcpuNum": 32
   },
   {
    "_defaultOrder": 9,
    "_isFastLaunch": false,
    "category": "General purpose",
    "gpuNum": 0,
    "hideHardwareSpecs": false,
    "memoryGiB": 192,
    "name": "ml.m5.12xlarge",
    "vcpuNum": 48
   },
   {
    "_defaultOrder": 10,
    "_isFastLaunch": false,
    "category": "General purpose",
    "gpuNum": 0,
    "hideHardwareSpecs": false,
    "memoryGiB": 256,
    "name": "ml.m5.16xlarge",
    "vcpuNum": 64
   },
   {
    "_defaultOrder": 11,
    "_isFastLaunch": false,
    "category": "General purpose",
    "gpuNum": 0,
    "hideHardwareSpecs": false,
    "memoryGiB": 384,
    "name": "ml.m5.24xlarge",
    "vcpuNum": 96
   },
   {
    "_defaultOrder": 12,
    "_isFastLaunch": false,
    "category": "General purpose",
    "gpuNum": 0,
    "hideHardwareSpecs": false,
    "memoryGiB": 8,
    "name": "ml.m5d.large",
    "vcpuNum": 2
   },
   {
    "_defaultOrder": 13,
    "_isFastLaunch": false,
    "category": "General purpose",
    "gpuNum": 0,
    "hideHardwareSpecs": false,
    "memoryGiB": 16,
    "name": "ml.m5d.xlarge",
    "vcpuNum": 4
   },
   {
    "_defaultOrder": 14,
    "_isFastLaunch": false,
    "category": "General purpose",
    "gpuNum": 0,
    "hideHardwareSpecs": false,
    "memoryGiB": 32,
    "name": "ml.m5d.2xlarge",
    "vcpuNum": 8
   },
   {
    "_defaultOrder": 15,
    "_isFastLaunch": false,
    "category": "General purpose",
    "gpuNum": 0,
    "hideHardwareSpecs": false,
    "memoryGiB": 64,
    "name": "ml.m5d.4xlarge",
    "vcpuNum": 16
   },
   {
    "_defaultOrder": 16,
    "_isFastLaunch": false,
    "category": "General purpose",
    "gpuNum": 0,
    "hideHardwareSpecs": false,
    "memoryGiB": 128,
    "name": "ml.m5d.8xlarge",
    "vcpuNum": 32
   },
   {
    "_defaultOrder": 17,
    "_isFastLaunch": false,
    "category": "General purpose",
    "gpuNum": 0,
    "hideHardwareSpecs": false,
    "memoryGiB": 192,
    "name": "ml.m5d.12xlarge",
    "vcpuNum": 48
   },
   {
    "_defaultOrder": 18,
    "_isFastLaunch": false,
    "category": "General purpose",
    "gpuNum": 0,
    "hideHardwareSpecs": false,
    "memoryGiB": 256,
    "name": "ml.m5d.16xlarge",
    "vcpuNum": 64
   },
   {
    "_defaultOrder": 19,
    "_isFastLaunch": false,
    "category": "General purpose",
    "gpuNum": 0,
    "hideHardwareSpecs": false,
    "memoryGiB": 384,
    "name": "ml.m5d.24xlarge",
    "vcpuNum": 96
   },
   {
    "_defaultOrder": 20,
    "_isFastLaunch": false,
    "category": "General purpose",
    "gpuNum": 0,
    "hideHardwareSpecs": true,
    "memoryGiB": 0,
    "name": "ml.geospatial.interactive",
    "supportedImageNames": [
     "sagemaker-geospatial-v1-0"
    ],
    "vcpuNum": 0
   },
   {
    "_defaultOrder": 21,
    "_isFastLaunch": true,
    "category": "Compute optimized",
    "gpuNum": 0,
    "hideHardwareSpecs": false,
    "memoryGiB": 4,
    "name": "ml.c5.large",
    "vcpuNum": 2
   },
   {
    "_defaultOrder": 22,
    "_isFastLaunch": false,
    "category": "Compute optimized",
    "gpuNum": 0,
    "hideHardwareSpecs": false,
    "memoryGiB": 8,
    "name": "ml.c5.xlarge",
    "vcpuNum": 4
   },
   {
    "_defaultOrder": 23,
    "_isFastLaunch": false,
    "category": "Compute optimized",
    "gpuNum": 0,
    "hideHardwareSpecs": false,
    "memoryGiB": 16,
    "name": "ml.c5.2xlarge",
    "vcpuNum": 8
   },
   {
    "_defaultOrder": 24,
    "_isFastLaunch": false,
    "category": "Compute optimized",
    "gpuNum": 0,
    "hideHardwareSpecs": false,
    "memoryGiB": 32,
    "name": "ml.c5.4xlarge",
    "vcpuNum": 16
   },
   {
    "_defaultOrder": 25,
    "_isFastLaunch": false,
    "category": "Compute optimized",
    "gpuNum": 0,
    "hideHardwareSpecs": false,
    "memoryGiB": 72,
    "name": "ml.c5.9xlarge",
    "vcpuNum": 36
   },
   {
    "_defaultOrder": 26,
    "_isFastLaunch": false,
    "category": "Compute optimized",
    "gpuNum": 0,
    "hideHardwareSpecs": false,
    "memoryGiB": 96,
    "name": "ml.c5.12xlarge",
    "vcpuNum": 48
   },
   {
    "_defaultOrder": 27,
    "_isFastLaunch": false,
    "category": "Compute optimized",
    "gpuNum": 0,
    "hideHardwareSpecs": false,
    "memoryGiB": 144,
    "name": "ml.c5.18xlarge",
    "vcpuNum": 72
   },
   {
    "_defaultOrder": 28,
    "_isFastLaunch": false,
    "category": "Compute optimized",
    "gpuNum": 0,
    "hideHardwareSpecs": false,
    "memoryGiB": 192,
    "name": "ml.c5.24xlarge",
    "vcpuNum": 96
   },
   {
    "_defaultOrder": 29,
    "_isFastLaunch": true,
    "category": "Accelerated computing",
    "gpuNum": 1,
    "hideHardwareSpecs": false,
    "memoryGiB": 16,
    "name": "ml.g4dn.xlarge",
    "vcpuNum": 4
   },
   {
    "_defaultOrder": 30,
    "_isFastLaunch": false,
    "category": "Accelerated computing",
    "gpuNum": 1,
    "hideHardwareSpecs": false,
    "memoryGiB": 32,
    "name": "ml.g4dn.2xlarge",
    "vcpuNum": 8
   },
   {
    "_defaultOrder": 31,
    "_isFastLaunch": false,
    "category": "Accelerated computing",
    "gpuNum": 1,
    "hideHardwareSpecs": false,
    "memoryGiB": 64,
    "name": "ml.g4dn.4xlarge",
    "vcpuNum": 16
   },
   {
    "_defaultOrder": 32,
    "_isFastLaunch": false,
    "category": "Accelerated computing",
    "gpuNum": 1,
    "hideHardwareSpecs": false,
    "memoryGiB": 128,
    "name": "ml.g4dn.8xlarge",
    "vcpuNum": 32
   },
   {
    "_defaultOrder": 33,
    "_isFastLaunch": false,
    "category": "Accelerated computing",
    "gpuNum": 4,
    "hideHardwareSpecs": false,
    "memoryGiB": 192,
    "name": "ml.g4dn.12xlarge",
    "vcpuNum": 48
   },
   {
    "_defaultOrder": 34,
    "_isFastLaunch": false,
    "category": "Accelerated computing",
    "gpuNum": 1,
    "hideHardwareSpecs": false,
    "memoryGiB": 256,
    "name": "ml.g4dn.16xlarge",
    "vcpuNum": 64
   },
   {
    "_defaultOrder": 35,
    "_isFastLaunch": false,
    "category": "Accelerated computing",
    "gpuNum": 1,
    "hideHardwareSpecs": false,
    "memoryGiB": 61,
    "name": "ml.p3.2xlarge",
    "vcpuNum": 8
   },
   {
    "_defaultOrder": 36,
    "_isFastLaunch": false,
    "category": "Accelerated computing",
    "gpuNum": 4,
    "hideHardwareSpecs": false,
    "memoryGiB": 244,
    "name": "ml.p3.8xlarge",
    "vcpuNum": 32
   },
   {
    "_defaultOrder": 37,
    "_isFastLaunch": false,
    "category": "Accelerated computing",
    "gpuNum": 8,
    "hideHardwareSpecs": false,
    "memoryGiB": 488,
    "name": "ml.p3.16xlarge",
    "vcpuNum": 64
   },
   {
    "_defaultOrder": 38,
    "_isFastLaunch": false,
    "category": "Accelerated computing",
    "gpuNum": 8,
    "hideHardwareSpecs": false,
    "memoryGiB": 768,
    "name": "ml.p3dn.24xlarge",
    "vcpuNum": 96
   },
   {
    "_defaultOrder": 39,
    "_isFastLaunch": false,
    "category": "Memory Optimized",
    "gpuNum": 0,
    "hideHardwareSpecs": false,
    "memoryGiB": 16,
    "name": "ml.r5.large",
    "vcpuNum": 2
   },
   {
    "_defaultOrder": 40,
    "_isFastLaunch": false,
    "category": "Memory Optimized",
    "gpuNum": 0,
    "hideHardwareSpecs": false,
    "memoryGiB": 32,
    "name": "ml.r5.xlarge",
    "vcpuNum": 4
   },
   {
    "_defaultOrder": 41,
    "_isFastLaunch": false,
    "category": "Memory Optimized",
    "gpuNum": 0,
    "hideHardwareSpecs": false,
    "memoryGiB": 64,
    "name": "ml.r5.2xlarge",
    "vcpuNum": 8
   },
   {
    "_defaultOrder": 42,
    "_isFastLaunch": false,
    "category": "Memory Optimized",
    "gpuNum": 0,
    "hideHardwareSpecs": false,
    "memoryGiB": 128,
    "name": "ml.r5.4xlarge",
    "vcpuNum": 16
   },
   {
    "_defaultOrder": 43,
    "_isFastLaunch": false,
    "category": "Memory Optimized",
    "gpuNum": 0,
    "hideHardwareSpecs": false,
    "memoryGiB": 256,
    "name": "ml.r5.8xlarge",
    "vcpuNum": 32
   },
   {
    "_defaultOrder": 44,
    "_isFastLaunch": false,
    "category": "Memory Optimized",
    "gpuNum": 0,
    "hideHardwareSpecs": false,
    "memoryGiB": 384,
    "name": "ml.r5.12xlarge",
    "vcpuNum": 48
   },
   {
    "_defaultOrder": 45,
    "_isFastLaunch": false,
    "category": "Memory Optimized",
    "gpuNum": 0,
    "hideHardwareSpecs": false,
    "memoryGiB": 512,
    "name": "ml.r5.16xlarge",
    "vcpuNum": 64
   },
   {
    "_defaultOrder": 46,
    "_isFastLaunch": false,
    "category": "Memory Optimized",
    "gpuNum": 0,
    "hideHardwareSpecs": false,
    "memoryGiB": 768,
    "name": "ml.r5.24xlarge",
    "vcpuNum": 96
   },
   {
    "_defaultOrder": 47,
    "_isFastLaunch": false,
    "category": "Accelerated computing",
    "gpuNum": 1,
    "hideHardwareSpecs": false,
    "memoryGiB": 16,
    "name": "ml.g5.xlarge",
    "vcpuNum": 4
   },
   {
    "_defaultOrder": 48,
    "_isFastLaunch": false,
    "category": "Accelerated computing",
    "gpuNum": 1,
    "hideHardwareSpecs": false,
    "memoryGiB": 32,
    "name": "ml.g5.2xlarge",
    "vcpuNum": 8
   },
   {
    "_defaultOrder": 49,
    "_isFastLaunch": false,
    "category": "Accelerated computing",
    "gpuNum": 1,
    "hideHardwareSpecs": false,
    "memoryGiB": 64,
    "name": "ml.g5.4xlarge",
    "vcpuNum": 16
   },
   {
    "_defaultOrder": 50,
    "_isFastLaunch": false,
    "category": "Accelerated computing",
    "gpuNum": 1,
    "hideHardwareSpecs": false,
    "memoryGiB": 128,
    "name": "ml.g5.8xlarge",
    "vcpuNum": 32
   },
   {
    "_defaultOrder": 51,
    "_isFastLaunch": false,
    "category": "Accelerated computing",
    "gpuNum": 1,
    "hideHardwareSpecs": false,
    "memoryGiB": 256,
    "name": "ml.g5.16xlarge",
    "vcpuNum": 64
   },
   {
    "_defaultOrder": 52,
    "_isFastLaunch": false,
    "category": "Accelerated computing",
    "gpuNum": 4,
    "hideHardwareSpecs": false,
    "memoryGiB": 192,
    "name": "ml.g5.12xlarge",
    "vcpuNum": 48
   },
   {
    "_defaultOrder": 53,
    "_isFastLaunch": false,
    "category": "Accelerated computing",
    "gpuNum": 4,
    "hideHardwareSpecs": false,
    "memoryGiB": 384,
    "name": "ml.g5.24xlarge",
    "vcpuNum": 96
   },
   {
    "_defaultOrder": 54,
    "_isFastLaunch": false,
    "category": "Accelerated computing",
    "gpuNum": 8,
    "hideHardwareSpecs": false,
    "memoryGiB": 768,
    "name": "ml.g5.48xlarge",
    "vcpuNum": 192
   },
   {
    "_defaultOrder": 55,
    "_isFastLaunch": false,
    "category": "Accelerated computing",
    "gpuNum": 8,
    "hideHardwareSpecs": false,
    "memoryGiB": 1152,
    "name": "ml.p4d.24xlarge",
    "vcpuNum": 96
   },
   {
    "_defaultOrder": 56,
    "_isFastLaunch": false,
    "category": "Accelerated computing",
    "gpuNum": 8,
    "hideHardwareSpecs": false,
    "memoryGiB": 1152,
    "name": "ml.p4de.24xlarge",
    "vcpuNum": 96
   },
   {
    "_defaultOrder": 57,
    "_isFastLaunch": false,
    "category": "Accelerated computing",
    "gpuNum": 0,
    "hideHardwareSpecs": false,
    "memoryGiB": 32,
    "name": "ml.trn1.2xlarge",
    "vcpuNum": 8
   },
   {
    "_defaultOrder": 58,
    "_isFastLaunch": false,
    "category": "Accelerated computing",
    "gpuNum": 0,
    "hideHardwareSpecs": false,
    "memoryGiB": 512,
    "name": "ml.trn1.32xlarge",
    "vcpuNum": 128
   },
   {
    "_defaultOrder": 59,
    "_isFastLaunch": false,
    "category": "Accelerated computing",
    "gpuNum": 0,
    "hideHardwareSpecs": false,
    "memoryGiB": 512,
    "name": "ml.trn1n.32xlarge",
    "vcpuNum": 128
   }
  ],
  "kernelspec": {
   "display_name": "Python 3 (Data Science 3.0)",
   "language": "python",
   "name": "python3__SAGEMAKER_INTERNAL__arn:aws:sagemaker:eu-west-1:470317259841:image/sagemaker-data-science-310-v1"
  },
  "language_info": {
   "codemirror_mode": {
    "name": "ipython",
    "version": 3
   },
   "file_extension": ".py",
   "mimetype": "text/x-python",
   "name": "python",
   "nbconvert_exporter": "python",
   "pygments_lexer": "ipython3",
   "version": "3.10.6"
  }
 },
 "nbformat": 4,
 "nbformat_minor": 5
}
