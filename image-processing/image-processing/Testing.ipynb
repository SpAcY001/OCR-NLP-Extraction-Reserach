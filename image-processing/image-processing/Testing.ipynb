{
 "cells": [
  {
   "cell_type": "code",
   "execution_count": null,
   "id": "37988c2d-7977-439e-89bb-6bde0ae23cc0",
   "metadata": {
    "tags": []
   },
   "outputs": [],
   "source": [
    "#!pip install fitz\n",
    "#!pip install pymupdf\n",
    "import boto3\n",
    "import fitz\n",
    "from io import BytesIO\n",
    "s3_client=boto3.client('s3')"
   ]
  },
  {
   "cell_type": "code",
   "execution_count": 27,
   "id": "f411682e-f5e7-4d5d-9e93-87ea18b740e4",
   "metadata": {
    "tags": []
   },
   "outputs": [],
   "source": [
    "def is_pdf_openable(bucket,key):\n",
    "    try:\n",
    "        response=s3_client.get_object(Bucket=bucket,Key=key)\n",
    "        pdf_content=response['Body'].read()\n",
    "        doc=fitz.open(stream=BytesIO(pdf_content))\n",
    "        doc.close()\n",
    "        return True\n",
    "    except Exception as e:\n",
    "        print(f\"error opening {key}: {str(e)}\")\n",
    "        return False"
   ]
  },
  {
   "cell_type": "code",
   "execution_count": 184,
   "id": "480205d8-51fb-4548-9530-3bf9d3eceac1",
   "metadata": {
    "tags": []
   },
   "outputs": [
    {
     "name": "stdout",
     "output_type": "stream",
     "text": [
      "splitted_pdfs/document-page0.pdf\n",
      "splitted_pdfs/document-page10.pdf\n",
      "splitted_pdfs/document-page12.pdf\n",
      "splitted_pdfs/document-page14.pdf\n",
      "splitted_pdfs/document-page16.pdf\n",
      "splitted_pdfs/document-page18.pdf\n",
      "splitted_pdfs/document-page2.pdf\n",
      "splitted_pdfs/document-page20.pdf\n",
      "splitted_pdfs/document-page22.pdf\n",
      "splitted_pdfs/document-page24.pdf\n",
      "splitted_pdfs/document-page26.pdf\n",
      "splitted_pdfs/document-page28.pdf\n",
      "splitted_pdfs/document-page30.pdf\n",
      "splitted_pdfs/document-page32.pdf\n",
      "splitted_pdfs/document-page34.pdf\n",
      "splitted_pdfs/document-page36.pdf\n",
      "splitted_pdfs/document-page38.pdf\n",
      "splitted_pdfs/document-page4.pdf\n",
      "splitted_pdfs/document-page40.pdf\n",
      "splitted_pdfs/document-page42.pdf\n",
      "splitted_pdfs/document-page44.pdf\n",
      "splitted_pdfs/document-page46.pdf\n",
      "splitted_pdfs/document-page48.pdf\n",
      "splitted_pdfs/document-page50.pdf\n",
      "splitted_pdfs/document-page52.pdf\n",
      "splitted_pdfs/document-page54.pdf\n",
      "splitted_pdfs/document-page56.pdf\n",
      "splitted_pdfs/document-page58.pdf\n",
      "splitted_pdfs/document-page6.pdf\n",
      "splitted_pdfs/document-page60.pdf\n",
      "splitted_pdfs/document-page62.pdf\n",
      "splitted_pdfs/document-page64.pdf\n",
      "splitted_pdfs/document-page66.pdf\n",
      "splitted_pdfs/document-page68.pdf\n",
      "splitted_pdfs/document-page70.pdf\n",
      "splitted_pdfs/document-page8.pdf\n",
      "36\n"
     ]
    }
   ],
   "source": [
    "s3_client = boto3.client('s3')\n",
    "bucket_name = 's3sagemakerbucket'\n",
    "count=0\n",
    "pdf_files=[]\n",
    "def read_pdf_files_from_folder(folder_path):\n",
    "    global count\n",
    "    response = s3_client.list_objects_v2(Bucket=bucket_name, Prefix=folder_path)\n",
    "    for obj in response['Contents']:\n",
    "        if obj['Key'].endswith('.pdf'):\n",
    "            print(obj['Key'])\n",
    "            if is_pdf_openable(bucket_name,obj['Key']):\n",
    "                count=count+1\n",
    "                pdf_files.append(obj['Key'])\n",
    "            #print(obj['Key'].split('/')[-1])\n",
    "            # s3_client.download_file(bucket_name, obj['Key'], 'local_directory\\/' + obj['Key'])\n",
    "        else:\n",
    "            if obj['Key'].endswith('\\/'):\n",
    "                read_pdf_files_from_folder(obj['Key'])\n",
    "\n",
    "root_folder = 'splitted_pdfs/'\n",
    "read_pdf_files_from_folder(root_folder)\n",
    "print(count)"
   ]
  },
  {
   "cell_type": "code",
   "execution_count": 185,
   "id": "4213f0f9-eb1e-4247-a835-5cb569519152",
   "metadata": {
    "tags": []
   },
   "outputs": [
    {
     "data": {
      "text/plain": [
       "36"
      ]
     },
     "execution_count": 185,
     "metadata": {},
     "output_type": "execute_result"
    }
   ],
   "source": [
    "len(pdf_files)"
   ]
  },
  {
   "cell_type": "code",
   "execution_count": 32,
   "id": "943afe3d-2488-4194-ada2-0e610a4bf650",
   "metadata": {
    "tags": []
   },
   "outputs": [
    {
     "name": "stdout",
     "output_type": "stream",
     "text": [
      "['1_Data/Lot 1 - Performance Bonds/AL OSAIS CONTRACTING CO/BG1307018880.pdf', '1_Data/Lot 1 - Performance Bonds/AL OSAIS CONTRACTING CO/BG170100136.pdf', '1_Data/Lot 1 - Performance Bonds/AL OSAIS CONTRACTING CO/BG170100137.pdf', '1_Data/Lot 1 - Performance Bonds/ALSTOM/BG1404026897.pdf', '1_Data/Lot 1 - Performance Bonds/ALSTOM/BG1410029686.pdf', '1_Data/Lot 1 - Performance Bonds/ALSTOM/BG1410029823.pdf', '1_Data/Lot 1 - Performance Bonds/ALSTOM/BG1410029828.pdf', '1_Data/Lot 1 - Performance Bonds/ALSTOM/BG1410030039.pdf', '1_Data/Lot 1 - Performance Bonds/ALSTOM/BG1506033985.pdf', '1_Data/Lot 1 - Performance Bonds/ALSTOM/BG1506033986.pdf', '1_Data/Lot 1 - Performance Bonds/ALSTOM/BG170400364.pdf', '1_Data/Lot 1 - Performance Bonds/ALSTOM/BG180401269.pdf', '1_Data/Lot 1 - Performance Bonds/Colas Rail Egypt/BG180500703.pdf', '1_Data/Lot 1 - Performance Bonds/Colas Rail Egypt/BG180500722.pdf', '1_Data/Lot 1 - Performance Bonds/Colas Rail Egypt/BG190200135.pdf', '1_Data/Lot 1 - Performance Bonds/Colas Rail Egypt/BG200900378.pdf', '1_Data/Lot 1 - Performance Bonds/Colas Rail Egypt/BG201200200.pdf', '1_Data/Lot 1 - Performance Bonds/EIFFAGE ENERGIA/BG200400313.pdf', '1_Data/Lot 1 - Performance Bonds/EIFFAGE ENERGIA/BG220200379.pdf', '1_Data/Lot 1 - Performance Bonds/ENEL GREEN POWER/BG1309020268.pdf', '1_Data/Lot 1 - Performance Bonds/ENEL GREEN POWER/BG1309020292.pdf', '1_Data/Lot 1 - Performance Bonds/ENEL GREEN POWER/BG1403026339.pdf', '1_Data/Lot 1 - Performance Bonds/ENEL GREEN POWER/BG1403026349.pdf', '1_Data/Lot 1 - Performance Bonds/ENEL GREEN POWER/BG1508035754.pdf', '1_Data/Lot 1 - Performance Bonds/ENEL GREEN POWER/BG1604039824.pdf', '1_Data/Lot 1 - Performance Bonds/Fluor Engineering/BG1507034832.pdf', '1_Data/Lot 1 - Performance Bonds/Fluor Engineering/BG1507034833.pdf', '1_Data/Lot 1 - Performance Bonds/GAMA/BG1212010785.pdf', '1_Data/Lot 1 - Performance Bonds/GAMA/BG1212011732.pdf', '1_Data/Lot 1 - Performance Bonds/GAMA/BG1403026258.pdf', '1_Data/Lot 1 - Performance Bonds/GAMA/BG1412030775.pdf', '1_Data/Lot 1 - Performance Bonds/GAMA/BG170100487.pdf', '1_Data/Lot 1 - Performance Bonds/Hyundai Engineering/BG1212011542.pdf', '1_Data/Lot 1 - Performance Bonds/Hyundai Engineering/BG200500320.pdf', '1_Data/Lot 1 - Performance Bonds/Interxion/BG190200018.pdf', '1_Data/Lot 1 - Performance Bonds/Interxion/BG211100272.pdf', '1_Data/Lot 1 - Performance Bonds/JGC CORPORATION/BG1507034690.pdf', '1_Data/Lot 1 - Performance Bonds/JGC CORPORATION/BG1508035687.pdf', '1_Data/Lot 1 - Performance Bonds/JGC CORPORATION/BG170700346.pdf', '1_Data/Lot 1 - Performance Bonds/JGC CORPORATION/BG181100279.pdf', '1_Data/Lot 1 - Performance Bonds/JGC CORPORATION/BG181100281.pdf', '1_Data/Lot 1 - Performance Bonds/JGC CORPORATION/BG181200375.pdf', '1_Data/Lot 1 - Performance Bonds/Jindal Steel & Power/BG1309020571.pdf', '1_Data/Lot 1 - Performance Bonds/Jindal Steel & Power/BG180300135.pdf', '1_Data/Lot 1 - Performance Bonds/Novartis Pharma/BG181200678.pdf', '1_Data/Lot 1 - Performance Bonds/Novartis Pharma/BG181200714.pdf', '1_Data/Lot 1 - Performance Bonds/Petrofac/BG180500746.pdf', '1_Data/Lot 1 - Performance Bonds/SAIPEM/BG170200149.pdf', '1_Data/Lot 1 - Performance Bonds/SAIPEM/BG170700185.pdf', '1_Data/Lot 1 - Performance Bonds/SAIPEM/BG170700188.pdf', '1_Data/Lot 1 - Performance Bonds/SAIPEM/BG170700191.pdf', '1_Data/Lot 1 - Performance Bonds/SAMSUNG/BG160800354.pdf', '1_Data/Lot 1 - Performance Bonds/SAMSUNG/BG191100054.pdf', '1_Data/Lot 1 - Performance Bonds/SIEMSA CHILE/BG190200055.pdf', '1_Data/Lot 1 - Performance Bonds/SIEMSA CHILE/BG191000181.pdf', '1_Data/Lot 1 - Performance Bonds/SNC LAVALIN/BG1501031544.pdf', '1_Data/Lot 1 - Performance Bonds/SNC LAVALIN/BG160900044.pdf', '1_Data/Lot 1 - Performance Bonds/SNC LAVALIN/BG160900045.pdf', '1_Data/Lot 1 - Performance Bonds/SONELGAZ/BG1111006079.pdf', '1_Data/Lot 1 - Performance Bonds/SONELGAZ/BG1111006092.pdf', '1_Data/Lot 1 - Performance Bonds/TECNIMONT/BG1110005224.pdf', '1_Data/Lot 1 - Performance Bonds/TECNIMONT/BG160800477.pdf', '1_Data/Lot 1 - Performance Bonds/TECNIMONT/BG170200400.pdf', '1_Data/Lot 1 - Performance Bonds/TECNIMONT/BG170400362.pdf', '1_Data/Lot 1 - Performance Bonds/TECNIMONT/BG180500600.pdf', '1_Data/Lot 1 - Performance Bonds/TECNIMONT/PG190100249.pdf', '1_Data/Lot 1 - Performance Bonds/TELEKOM MALAYSIA/BG1602038443.pdf', '1_Data/Lot 1 - Performance Bonds/THYSSENKRUPP/BG1606041085.pdf', '1_Data/Lot 1 - Performance Bonds/THYSSENKRUPP/BG160800116.pdf', '1_Data/Lot 1 - Performance Bonds/Technip/BG180600207.pdf', '1_Data/Lot 1 - Performance Bonds/Technip/BG181100189.pdf', '1_Data/Lot 1 - Performance Bonds/Technip/BG190900567.pdf', '1_Data/Lot 1 - Performance Bonds/The Ramco Cements/BG190700077.pdf', '1_Data/Lot 1 - Performance Bonds/The Ramco Cements/BG191200528.pdf', '1_Data/Lot 1 - Performance Bonds/The Ramco Cements/BG200600220.pdf', '1_Data/Lot 1 - Performance Bonds/Veolia Water-Leighton/BG1507034587.pdf', '1_Data/Lot 1 - Performance Bonds/Veolia Water-Leighton/BG190800174.pdf']\n"
     ]
    }
   ],
   "source": [
    "print(pdf_files)"
   ]
  },
  {
   "cell_type": "code",
   "execution_count": 118,
   "id": "691aca10-a9b0-42f2-9fff-644a8730b4ba",
   "metadata": {
    "tags": []
   },
   "outputs": [],
   "source": [
    "!mkdir -p pdffiles\n",
    "for file in pdf_files:\n",
    "    s3_client.download_file(\"s3sagemakerbucket\",str(file),f\"pdffiles/{file.split('/')[-1]}\",)"
   ]
  },
  {
   "cell_type": "code",
   "execution_count": 152,
   "id": "62a0655d-760c-4563-85f4-91a4001511c3",
   "metadata": {
    "tags": []
   },
   "outputs": [],
   "source": [
    "from tika import parser\n",
    "headers = {\n",
    "'X-Tika-PDFextractInlineImages': 'true',\n",
    "}"
   ]
  },
  {
   "cell_type": "code",
   "execution_count": 80,
   "id": "3dff24f1-11c6-45db-a508-0b202defde33",
   "metadata": {
    "tags": []
   },
   "outputs": [],
   "source": [
    "#!conda install -y openjdk"
   ]
  },
  {
   "cell_type": "code",
   "execution_count": null,
   "id": "06db27c6-0dd7-4a71-b3df-e70399cafd5c",
   "metadata": {
    "tags": []
   },
   "outputs": [],
   "source": [
    "# for file in pdf_files:\n",
    "# response=s3_client.get_object(Bucket=\"s3sagemakerbucket\",Key=\"1_Data/Lot 1 - Performance Bonds/AL OSAIS CONTRACTING CO/BG1307018880.pdf\")\n",
    "# pdf_content=response['Body'].read()\n",
    "text = parser.from_file(\"pdffiles/BG1309020268.pdf\",headers=headers)\n",
    "print(text)\n",
    "# text = parser.from_buffer(\"pdffiles/BG1307018880.pdf\")\n",
    "# text_content=text.get('content')\n",
    "print(text_content)\n",
    "# print(file)\n",
    "    # if text_perc:\n",
    "    #     print(\"fully scanned PDF - no relevant text\")\n",
    "    # else:\n",
    "    #     print(\"not fully scanned PDF - text is present\")"
   ]
  },
  {
   "cell_type": "code",
   "execution_count": 156,
   "id": "edec8889-1afb-40db-a95f-5dd79d0266d4",
   "metadata": {
    "tags": []
   },
   "outputs": [
    {
     "name": "stdout",
     "output_type": "stream",
     "text": [
      "None\n"
     ]
    }
   ],
   "source": [
    "from io import BytesIO\n",
    "response=s3_client.get_object(Bucket=\"s3sagemakerbucket\",Key=\"1_Data/Lot 1 - Performance Bonds/AL OSAIS CONTRACTING CO/BG1307018880.pdf\")\n",
    "pdf_content=response['Body'].read()\n",
    "text_context=BytesIO(pdf_content)\n",
    "text = parser.from_buffer(text_context)\n",
    "print(text['content'])"
   ]
  },
  {
   "cell_type": "code",
   "execution_count": 162,
   "id": "3449c883-874a-461f-9b74-7ac33219ea74",
   "metadata": {
    "tags": []
   },
   "outputs": [
    {
     "name": "stdout",
     "output_type": "stream",
     "text": [
      "Requirement already satisfied: rapidocr-onnxruntime in /opt/conda/lib/python3.10/site-packages (1.3.8)\n",
      "Requirement already satisfied: pyclipper>=1.2.0 in /opt/conda/lib/python3.10/site-packages (from rapidocr-onnxruntime) (1.3.0.post5)\n",
      "Requirement already satisfied: onnxruntime>=1.7.0 in /opt/conda/lib/python3.10/site-packages (from rapidocr-onnxruntime) (1.16.3)\n",
      "Requirement already satisfied: opencv-python>=4.5.1.48 in /opt/conda/lib/python3.10/site-packages (from rapidocr-onnxruntime) (4.8.1.78)\n",
      "Requirement already satisfied: numpy>=1.19.5 in /opt/conda/lib/python3.10/site-packages (from rapidocr-onnxruntime) (1.26.0)\n",
      "Requirement already satisfied: six>=1.15.0 in /opt/conda/lib/python3.10/site-packages (from rapidocr-onnxruntime) (1.16.0)\n",
      "Requirement already satisfied: Shapely>=1.7.1 in /opt/conda/lib/python3.10/site-packages (from rapidocr-onnxruntime) (2.0.2)\n",
      "Requirement already satisfied: PyYAML in /opt/conda/lib/python3.10/site-packages/PyYAML-6.0-py3.10-linux-x86_64.egg (from rapidocr-onnxruntime) (6.0)\n",
      "Requirement already satisfied: Pillow<=9.5.0 in /opt/conda/lib/python3.10/site-packages (from rapidocr-onnxruntime) (9.5.0)\n",
      "Requirement already satisfied: coloredlogs in /opt/conda/lib/python3.10/site-packages (from onnxruntime>=1.7.0->rapidocr-onnxruntime) (15.0.1)\n",
      "Requirement already satisfied: flatbuffers in /opt/conda/lib/python3.10/site-packages (from onnxruntime>=1.7.0->rapidocr-onnxruntime) (23.5.26)\n",
      "Requirement already satisfied: packaging in /opt/conda/lib/python3.10/site-packages (from onnxruntime>=1.7.0->rapidocr-onnxruntime) (21.3)\n",
      "Requirement already satisfied: protobuf in /opt/conda/lib/python3.10/site-packages (from onnxruntime>=1.7.0->rapidocr-onnxruntime) (4.24.4)\n",
      "Requirement already satisfied: sympy in /opt/conda/lib/python3.10/site-packages (from onnxruntime>=1.7.0->rapidocr-onnxruntime) (1.10.1)\n",
      "Requirement already satisfied: humanfriendly>=9.1 in /opt/conda/lib/python3.10/site-packages (from coloredlogs->onnxruntime>=1.7.0->rapidocr-onnxruntime) (10.0)\n",
      "Requirement already satisfied: pyparsing!=3.0.5,>=2.0.2 in /opt/conda/lib/python3.10/site-packages (from packaging->onnxruntime>=1.7.0->rapidocr-onnxruntime) (3.0.9)\n",
      "Requirement already satisfied: mpmath>=0.19 in /opt/conda/lib/python3.10/site-packages (from sympy->onnxruntime>=1.7.0->rapidocr-onnxruntime) (1.3.0)\n",
      "\u001b[33mWARNING: Running pip as the 'root' user can result in broken permissions and conflicting behaviour with the system package manager. It is recommended to use a virtual environment instead: https://pip.pypa.io/warnings/venv\u001b[0m\u001b[33m\n",
      "\u001b[0m\n",
      "\u001b[1m[\u001b[0m\u001b[34;49mnotice\u001b[0m\u001b[1;39;49m]\u001b[0m\u001b[39;49m A new release of pip is available: \u001b[0m\u001b[31;49m23.2.1\u001b[0m\u001b[39;49m -> \u001b[0m\u001b[32;49m23.3.1\u001b[0m\n",
      "\u001b[1m[\u001b[0m\u001b[34;49mnotice\u001b[0m\u001b[1;39;49m]\u001b[0m\u001b[39;49m To update, run: \u001b[0m\u001b[32;49mpip install --upgrade pip\u001b[0m\n"
     ]
    }
   ],
   "source": [
    "#!pip install langchain\n",
    "#!pip install openai\n",
    "!pip install rapidocr-onnxruntime\n",
    "#!pip install pypdf\n",
    "#!pip install -U Pillow==9.5.0\n",
    "#!pip install onnxruntime-gpu"
   ]
  },
  {
   "cell_type": "code",
   "execution_count": 161,
   "id": "bd3da775-13ab-4bbc-ac5d-9786a4025636",
   "metadata": {
    "tags": []
   },
   "outputs": [
    {
     "name": "stderr",
     "output_type": "stream",
     "text": [
      "/opt/conda/lib/python3.10/site-packages/PIL/Image.py:125: RuntimeWarning: The _imaging extension was built for another version of Pillow or PIL:\n",
      "Core version: 9.5.0\n",
      "Pillow version: 10.0.1\n",
      "  warnings.warn(str(v), RuntimeWarning)\n"
     ]
    },
    {
     "ename": "ImportError",
     "evalue": "`rapidocr-onnxruntime` package not found, please install it with `pip install rapidocr-onnxruntime`",
     "output_type": "error",
     "traceback": [
      "\u001b[0;31m---------------------------------------------------------------------------\u001b[0m",
      "\u001b[0;31mImportError\u001b[0m                               Traceback (most recent call last)",
      "File \u001b[0;32m/opt/conda/lib/python3.10/site-packages/langchain/document_loaders/parsers/pdf.py:64\u001b[0m, in \u001b[0;36mextract_from_images_with_rapidocr\u001b[0;34m(images)\u001b[0m\n\u001b[1;32m     63\u001b[0m \u001b[38;5;28;01mtry\u001b[39;00m:\n\u001b[0;32m---> 64\u001b[0m     \u001b[38;5;28;01mfrom\u001b[39;00m \u001b[38;5;21;01mrapidocr_onnxruntime\u001b[39;00m \u001b[38;5;28;01mimport\u001b[39;00m RapidOCR\n\u001b[1;32m     65\u001b[0m \u001b[38;5;28;01mexcept\u001b[39;00m \u001b[38;5;167;01mImportError\u001b[39;00m:\n",
      "File \u001b[0;32m/opt/conda/lib/python3.10/site-packages/rapidocr_onnxruntime/__init__.py:4\u001b[0m\n\u001b[1;32m      1\u001b[0m \u001b[38;5;66;03m# -*- encoding: utf-8 -*-\u001b[39;00m\n\u001b[1;32m      2\u001b[0m \u001b[38;5;66;03m# @Author: SWHL\u001b[39;00m\n\u001b[1;32m      3\u001b[0m \u001b[38;5;66;03m# @Contact: liekkaskono@163.com\u001b[39;00m\n\u001b[0;32m----> 4\u001b[0m \u001b[38;5;28;01mfrom\u001b[39;00m \u001b[38;5;21;01m.\u001b[39;00m\u001b[38;5;21;01mmain\u001b[39;00m \u001b[38;5;28;01mimport\u001b[39;00m RapidOCR\n\u001b[1;32m      5\u001b[0m \u001b[38;5;28;01mfrom\u001b[39;00m \u001b[38;5;21;01m.\u001b[39;00m\u001b[38;5;21;01mutils\u001b[39;00m \u001b[38;5;28;01mimport\u001b[39;00m LoadImageError, VisRes\n",
      "File \u001b[0;32m/opt/conda/lib/python3.10/site-packages/rapidocr_onnxruntime/main.py:12\u001b[0m\n\u001b[1;32m     10\u001b[0m \u001b[38;5;28;01mimport\u001b[39;00m \u001b[38;5;21;01mnumpy\u001b[39;00m \u001b[38;5;28;01mas\u001b[39;00m \u001b[38;5;21;01mnp\u001b[39;00m\n\u001b[0;32m---> 12\u001b[0m \u001b[38;5;28;01mfrom\u001b[39;00m \u001b[38;5;21;01m.\u001b[39;00m\u001b[38;5;21;01mch_ppocr_v2_cls\u001b[39;00m \u001b[38;5;28;01mimport\u001b[39;00m TextClassifier\n\u001b[1;32m     13\u001b[0m \u001b[38;5;28;01mfrom\u001b[39;00m \u001b[38;5;21;01m.\u001b[39;00m\u001b[38;5;21;01mch_ppocr_v3_det\u001b[39;00m \u001b[38;5;28;01mimport\u001b[39;00m TextDetector\n",
      "File \u001b[0;32m/opt/conda/lib/python3.10/site-packages/rapidocr_onnxruntime/ch_ppocr_v2_cls/__init__.py:4\u001b[0m\n\u001b[1;32m      1\u001b[0m \u001b[38;5;66;03m# -*- encoding: utf-8 -*-\u001b[39;00m\n\u001b[1;32m      2\u001b[0m \u001b[38;5;66;03m# @Author: SWHL\u001b[39;00m\n\u001b[1;32m      3\u001b[0m \u001b[38;5;66;03m# @Contact: liekkaskono@163.com\u001b[39;00m\n\u001b[0;32m----> 4\u001b[0m \u001b[38;5;28;01mfrom\u001b[39;00m \u001b[38;5;21;01m.\u001b[39;00m\u001b[38;5;21;01mtext_cls\u001b[39;00m \u001b[38;5;28;01mimport\u001b[39;00m TextClassifier\n",
      "File \u001b[0;32m/opt/conda/lib/python3.10/site-packages/rapidocr_onnxruntime/ch_ppocr_v2_cls/text_cls.py:23\u001b[0m\n\u001b[1;32m     21\u001b[0m \u001b[38;5;28;01mimport\u001b[39;00m \u001b[38;5;21;01mnumpy\u001b[39;00m \u001b[38;5;28;01mas\u001b[39;00m \u001b[38;5;21;01mnp\u001b[39;00m\n\u001b[0;32m---> 23\u001b[0m \u001b[38;5;28;01mfrom\u001b[39;00m \u001b[38;5;21;01mrapidocr_onnxruntime\u001b[39;00m\u001b[38;5;21;01m.\u001b[39;00m\u001b[38;5;21;01mutils\u001b[39;00m \u001b[38;5;28;01mimport\u001b[39;00m OrtInferSession, read_yaml\n\u001b[1;32m     25\u001b[0m \u001b[38;5;28;01mfrom\u001b[39;00m \u001b[38;5;21;01m.\u001b[39;00m\u001b[38;5;21;01mutils\u001b[39;00m \u001b[38;5;28;01mimport\u001b[39;00m ClsPostProcess\n",
      "File \u001b[0;32m/opt/conda/lib/python3.10/site-packages/rapidocr_onnxruntime/utils.py:23\u001b[0m\n\u001b[1;32m     16\u001b[0m \u001b[38;5;28;01mfrom\u001b[39;00m \u001b[38;5;21;01monnxruntime\u001b[39;00m \u001b[38;5;28;01mimport\u001b[39;00m (\n\u001b[1;32m     17\u001b[0m     GraphOptimizationLevel,\n\u001b[1;32m     18\u001b[0m     InferenceSession,\n\u001b[0;32m   (...)\u001b[0m\n\u001b[1;32m     21\u001b[0m     get_device,\n\u001b[1;32m     22\u001b[0m )\n\u001b[0;32m---> 23\u001b[0m \u001b[38;5;28;01mfrom\u001b[39;00m \u001b[38;5;21;01mPIL\u001b[39;00m \u001b[38;5;28;01mimport\u001b[39;00m Image, ImageDraw, ImageFont, UnidentifiedImageError\n\u001b[1;32m     25\u001b[0m root_dir \u001b[38;5;241m=\u001b[39m Path(\u001b[38;5;18m__file__\u001b[39m)\u001b[38;5;241m.\u001b[39mresolve()\u001b[38;5;241m.\u001b[39mparent\n",
      "File \u001b[0;32m/opt/conda/lib/python3.10/site-packages/PIL/Image.py:111\u001b[0m\n\u001b[1;32m    106\u001b[0m         msg \u001b[38;5;241m=\u001b[39m (\n\u001b[1;32m    107\u001b[0m             \u001b[38;5;124m\"\u001b[39m\u001b[38;5;124mThe _imaging extension was built for another version of Pillow or PIL:\u001b[39m\u001b[38;5;130;01m\\n\u001b[39;00m\u001b[38;5;124m\"\u001b[39m\n\u001b[1;32m    108\u001b[0m             \u001b[38;5;124mf\u001b[39m\u001b[38;5;124m\"\u001b[39m\u001b[38;5;124mCore version: \u001b[39m\u001b[38;5;132;01m{\u001b[39;00m\u001b[38;5;28mgetattr\u001b[39m(core,\u001b[38;5;250m \u001b[39m\u001b[38;5;124m'\u001b[39m\u001b[38;5;124mPILLOW_VERSION\u001b[39m\u001b[38;5;124m'\u001b[39m,\u001b[38;5;250m \u001b[39m\u001b[38;5;28;01mNone\u001b[39;00m)\u001b[38;5;132;01m}\u001b[39;00m\u001b[38;5;130;01m\\n\u001b[39;00m\u001b[38;5;124m\"\u001b[39m\n\u001b[1;32m    109\u001b[0m             \u001b[38;5;124mf\u001b[39m\u001b[38;5;124m\"\u001b[39m\u001b[38;5;124mPillow version: \u001b[39m\u001b[38;5;132;01m{\u001b[39;00m__version__\u001b[38;5;132;01m}\u001b[39;00m\u001b[38;5;124m\"\u001b[39m\n\u001b[1;32m    110\u001b[0m         )\n\u001b[0;32m--> 111\u001b[0m         \u001b[38;5;28;01mraise\u001b[39;00m \u001b[38;5;167;01mImportError\u001b[39;00m(msg)\n\u001b[1;32m    113\u001b[0m \u001b[38;5;28;01mexcept\u001b[39;00m \u001b[38;5;167;01mImportError\u001b[39;00m \u001b[38;5;28;01mas\u001b[39;00m v:\n",
      "\u001b[0;31mImportError\u001b[0m: The _imaging extension was built for another version of Pillow or PIL:\nCore version: 9.5.0\nPillow version: 10.0.1",
      "\nDuring handling of the above exception, another exception occurred:\n",
      "\u001b[0;31mImportError\u001b[0m                               Traceback (most recent call last)",
      "Cell \u001b[0;32mIn[161], line 9\u001b[0m\n\u001b[1;32m      4\u001b[0m \u001b[38;5;66;03m# response=s3_client.get_object(Bucket=\"s3sagemakerbucket\",Key=\"1_Data/Lot 1 - Performance Bonds/AL OSAIS CONTRACTING CO/BG1307018880.pdf\")\u001b[39;00m\n\u001b[1;32m      5\u001b[0m \u001b[38;5;66;03m# newpdf_content=response['Body'].read()\u001b[39;00m\n\u001b[1;32m      6\u001b[0m \u001b[38;5;66;03m# text_context=BytesIO(pdf_content)\u001b[39;00m\n\u001b[1;32m      8\u001b[0m loader \u001b[38;5;241m=\u001b[39m PyPDFLoader(\u001b[38;5;124m\"\u001b[39m\u001b[38;5;124mpdffiles/BG1307018880.pdf\u001b[39m\u001b[38;5;124m\"\u001b[39m, extract_images\u001b[38;5;241m=\u001b[39m\u001b[38;5;28;01mTrue\u001b[39;00m)\n\u001b[0;32m----> 9\u001b[0m pages \u001b[38;5;241m=\u001b[39m \u001b[43mloader\u001b[49m\u001b[38;5;241;43m.\u001b[39;49m\u001b[43mload\u001b[49m\u001b[43m(\u001b[49m\u001b[43m)\u001b[49m\n\u001b[1;32m     10\u001b[0m page4_content \u001b[38;5;241m=\u001b[39m pages[\u001b[38;5;241m0\u001b[39m]\u001b[38;5;241m.\u001b[39mpage_content\n\u001b[1;32m     11\u001b[0m \u001b[38;5;28mprint\u001b[39m(page4_content)\n",
      "File \u001b[0;32m/opt/conda/lib/python3.10/site-packages/langchain/document_loaders/pdf.py:162\u001b[0m, in \u001b[0;36mPyPDFLoader.load\u001b[0;34m(self)\u001b[0m\n\u001b[1;32m    160\u001b[0m \u001b[38;5;28;01mdef\u001b[39;00m \u001b[38;5;21mload\u001b[39m(\u001b[38;5;28mself\u001b[39m) \u001b[38;5;241m-\u001b[39m\u001b[38;5;241m>\u001b[39m List[Document]:\n\u001b[1;32m    161\u001b[0m \u001b[38;5;250m    \u001b[39m\u001b[38;5;124;03m\"\"\"Load given path as pages.\"\"\"\u001b[39;00m\n\u001b[0;32m--> 162\u001b[0m     \u001b[38;5;28;01mreturn\u001b[39;00m \u001b[38;5;28;43mlist\u001b[39;49m\u001b[43m(\u001b[49m\u001b[38;5;28;43mself\u001b[39;49m\u001b[38;5;241;43m.\u001b[39;49m\u001b[43mlazy_load\u001b[49m\u001b[43m(\u001b[49m\u001b[43m)\u001b[49m\u001b[43m)\u001b[49m\n",
      "File \u001b[0;32m/opt/conda/lib/python3.10/site-packages/langchain/document_loaders/pdf.py:172\u001b[0m, in \u001b[0;36mPyPDFLoader.lazy_load\u001b[0;34m(self)\u001b[0m\n\u001b[1;32m    170\u001b[0m \u001b[38;5;28;01melse\u001b[39;00m:\n\u001b[1;32m    171\u001b[0m     blob \u001b[38;5;241m=\u001b[39m Blob\u001b[38;5;241m.\u001b[39mfrom_path(\u001b[38;5;28mself\u001b[39m\u001b[38;5;241m.\u001b[39mfile_path)\n\u001b[0;32m--> 172\u001b[0m \u001b[38;5;28;01myield from\u001b[39;00m \u001b[38;5;28;43mself\u001b[39;49m\u001b[38;5;241;43m.\u001b[39;49m\u001b[43mparser\u001b[49m\u001b[38;5;241;43m.\u001b[39;49m\u001b[43mparse\u001b[49m\u001b[43m(\u001b[49m\u001b[43mblob\u001b[49m\u001b[43m)\u001b[49m\n",
      "File \u001b[0;32m/opt/conda/lib/python3.10/site-packages/langchain/document_loaders/base.py:96\u001b[0m, in \u001b[0;36mBaseBlobParser.parse\u001b[0;34m(self, blob)\u001b[0m\n\u001b[1;32m     81\u001b[0m \u001b[38;5;28;01mdef\u001b[39;00m \u001b[38;5;21mparse\u001b[39m(\u001b[38;5;28mself\u001b[39m, blob: Blob) \u001b[38;5;241m-\u001b[39m\u001b[38;5;241m>\u001b[39m List[Document]:\n\u001b[1;32m     82\u001b[0m \u001b[38;5;250m    \u001b[39m\u001b[38;5;124;03m\"\"\"Eagerly parse the blob into a document or documents.\u001b[39;00m\n\u001b[1;32m     83\u001b[0m \n\u001b[1;32m     84\u001b[0m \u001b[38;5;124;03m    This is a convenience method for interactive development environment.\u001b[39;00m\n\u001b[0;32m   (...)\u001b[0m\n\u001b[1;32m     94\u001b[0m \u001b[38;5;124;03m        List of documents\u001b[39;00m\n\u001b[1;32m     95\u001b[0m \u001b[38;5;124;03m    \"\"\"\u001b[39;00m\n\u001b[0;32m---> 96\u001b[0m     \u001b[38;5;28;01mreturn\u001b[39;00m \u001b[38;5;28;43mlist\u001b[39;49m\u001b[43m(\u001b[49m\u001b[38;5;28;43mself\u001b[39;49m\u001b[38;5;241;43m.\u001b[39;49m\u001b[43mlazy_parse\u001b[49m\u001b[43m(\u001b[49m\u001b[43mblob\u001b[49m\u001b[43m)\u001b[49m\u001b[43m)\u001b[49m\n",
      "File \u001b[0;32m/opt/conda/lib/python3.10/site-packages/langchain/document_loaders/parsers/pdf.py:95\u001b[0m, in \u001b[0;36mPyPDFParser.lazy_parse\u001b[0;34m(self, blob)\u001b[0m\n\u001b[1;32m     93\u001b[0m \u001b[38;5;28;01mwith\u001b[39;00m blob\u001b[38;5;241m.\u001b[39mas_bytes_io() \u001b[38;5;28;01mas\u001b[39;00m pdf_file_obj:\n\u001b[1;32m     94\u001b[0m     pdf_reader \u001b[38;5;241m=\u001b[39m pypdf\u001b[38;5;241m.\u001b[39mPdfReader(pdf_file_obj, password\u001b[38;5;241m=\u001b[39m\u001b[38;5;28mself\u001b[39m\u001b[38;5;241m.\u001b[39mpassword)\n\u001b[0;32m---> 95\u001b[0m     \u001b[38;5;28;01myield from\u001b[39;00m [\n\u001b[1;32m     96\u001b[0m         Document(\n\u001b[1;32m     97\u001b[0m             page_content\u001b[38;5;241m=\u001b[39mpage\u001b[38;5;241m.\u001b[39mextract_text()\n\u001b[1;32m     98\u001b[0m             \u001b[38;5;241m+\u001b[39m \u001b[38;5;28mself\u001b[39m\u001b[38;5;241m.\u001b[39m_extract_images_from_page(page),\n\u001b[1;32m     99\u001b[0m             metadata\u001b[38;5;241m=\u001b[39m{\u001b[38;5;124m\"\u001b[39m\u001b[38;5;124msource\u001b[39m\u001b[38;5;124m\"\u001b[39m: blob\u001b[38;5;241m.\u001b[39msource, \u001b[38;5;124m\"\u001b[39m\u001b[38;5;124mpage\u001b[39m\u001b[38;5;124m\"\u001b[39m: page_number},\n\u001b[1;32m    100\u001b[0m         )\n\u001b[1;32m    101\u001b[0m         \u001b[38;5;28;01mfor\u001b[39;00m page_number, page \u001b[38;5;129;01min\u001b[39;00m \u001b[38;5;28menumerate\u001b[39m(pdf_reader\u001b[38;5;241m.\u001b[39mpages)\n\u001b[1;32m    102\u001b[0m     ]\n",
      "File \u001b[0;32m/opt/conda/lib/python3.10/site-packages/langchain/document_loaders/parsers/pdf.py:98\u001b[0m, in \u001b[0;36m<listcomp>\u001b[0;34m(.0)\u001b[0m\n\u001b[1;32m     93\u001b[0m \u001b[38;5;28;01mwith\u001b[39;00m blob\u001b[38;5;241m.\u001b[39mas_bytes_io() \u001b[38;5;28;01mas\u001b[39;00m pdf_file_obj:\n\u001b[1;32m     94\u001b[0m     pdf_reader \u001b[38;5;241m=\u001b[39m pypdf\u001b[38;5;241m.\u001b[39mPdfReader(pdf_file_obj, password\u001b[38;5;241m=\u001b[39m\u001b[38;5;28mself\u001b[39m\u001b[38;5;241m.\u001b[39mpassword)\n\u001b[1;32m     95\u001b[0m     \u001b[38;5;28;01myield from\u001b[39;00m [\n\u001b[1;32m     96\u001b[0m         Document(\n\u001b[1;32m     97\u001b[0m             page_content\u001b[38;5;241m=\u001b[39mpage\u001b[38;5;241m.\u001b[39mextract_text()\n\u001b[0;32m---> 98\u001b[0m             \u001b[38;5;241m+\u001b[39m \u001b[38;5;28;43mself\u001b[39;49m\u001b[38;5;241;43m.\u001b[39;49m\u001b[43m_extract_images_from_page\u001b[49m\u001b[43m(\u001b[49m\u001b[43mpage\u001b[49m\u001b[43m)\u001b[49m,\n\u001b[1;32m     99\u001b[0m             metadata\u001b[38;5;241m=\u001b[39m{\u001b[38;5;124m\"\u001b[39m\u001b[38;5;124msource\u001b[39m\u001b[38;5;124m\"\u001b[39m: blob\u001b[38;5;241m.\u001b[39msource, \u001b[38;5;124m\"\u001b[39m\u001b[38;5;124mpage\u001b[39m\u001b[38;5;124m\"\u001b[39m: page_number},\n\u001b[1;32m    100\u001b[0m         )\n\u001b[1;32m    101\u001b[0m         \u001b[38;5;28;01mfor\u001b[39;00m page_number, page \u001b[38;5;129;01min\u001b[39;00m \u001b[38;5;28menumerate\u001b[39m(pdf_reader\u001b[38;5;241m.\u001b[39mpages)\n\u001b[1;32m    102\u001b[0m     ]\n",
      "File \u001b[0;32m/opt/conda/lib/python3.10/site-packages/langchain/document_loaders/parsers/pdf.py:125\u001b[0m, in \u001b[0;36mPyPDFParser._extract_images_from_page\u001b[0;34m(self, page)\u001b[0m\n\u001b[1;32m    123\u001b[0m         \u001b[38;5;28;01melse\u001b[39;00m:\n\u001b[1;32m    124\u001b[0m             warnings\u001b[38;5;241m.\u001b[39mwarn(\u001b[38;5;124m\"\u001b[39m\u001b[38;5;124mUnknown PDF Filter!\u001b[39m\u001b[38;5;124m\"\u001b[39m)\n\u001b[0;32m--> 125\u001b[0m \u001b[38;5;28;01mreturn\u001b[39;00m \u001b[43mextract_from_images_with_rapidocr\u001b[49m\u001b[43m(\u001b[49m\u001b[43mimages\u001b[49m\u001b[43m)\u001b[49m\n",
      "File \u001b[0;32m/opt/conda/lib/python3.10/site-packages/langchain/document_loaders/parsers/pdf.py:66\u001b[0m, in \u001b[0;36mextract_from_images_with_rapidocr\u001b[0;34m(images)\u001b[0m\n\u001b[1;32m     64\u001b[0m     \u001b[38;5;28;01mfrom\u001b[39;00m \u001b[38;5;21;01mrapidocr_onnxruntime\u001b[39;00m \u001b[38;5;28;01mimport\u001b[39;00m RapidOCR\n\u001b[1;32m     65\u001b[0m \u001b[38;5;28;01mexcept\u001b[39;00m \u001b[38;5;167;01mImportError\u001b[39;00m:\n\u001b[0;32m---> 66\u001b[0m     \u001b[38;5;28;01mraise\u001b[39;00m \u001b[38;5;167;01mImportError\u001b[39;00m(\n\u001b[1;32m     67\u001b[0m         \u001b[38;5;124m\"\u001b[39m\u001b[38;5;124m`rapidocr-onnxruntime` package not found, please install it with \u001b[39m\u001b[38;5;124m\"\u001b[39m\n\u001b[1;32m     68\u001b[0m         \u001b[38;5;124m\"\u001b[39m\u001b[38;5;124m`pip install rapidocr-onnxruntime`\u001b[39m\u001b[38;5;124m\"\u001b[39m\n\u001b[1;32m     69\u001b[0m     )\n\u001b[1;32m     70\u001b[0m ocr \u001b[38;5;241m=\u001b[39m RapidOCR()\n\u001b[1;32m     71\u001b[0m text \u001b[38;5;241m=\u001b[39m \u001b[38;5;124m\"\u001b[39m\u001b[38;5;124m\"\u001b[39m\n",
      "\u001b[0;31mImportError\u001b[0m: `rapidocr-onnxruntime` package not found, please install it with `pip install rapidocr-onnxruntime`"
     ]
    }
   ],
   "source": [
    "#!pip install rapidocr-onnxruntime\n",
    "from langchain.document_loaders import PyPDFLoader\n",
    "\n",
    "# response=s3_client.get_object(Bucket=\"s3sagemakerbucket\",Key=\"1_Data/Lot 1 - Performance Bonds/AL OSAIS CONTRACTING CO/BG1307018880.pdf\")\n",
    "# newpdf_content=response['Body'].read()\n",
    "# text_context=BytesIO(pdf_content)\n",
    "\n",
    "loader = PyPDFLoader(\"pdffiles/BG1307018880.pdf\", extract_images=True)\n",
    "pages = loader.load()\n",
    "page4_content = pages[0].page_content\n",
    "print(page4_content)\n",
    "print('Done')\n"
   ]
  },
  {
   "cell_type": "code",
   "execution_count": null,
   "id": "e4690e50-3798-4109-89de-47b02475fbb2",
   "metadata": {},
   "outputs": [],
   "source": []
  },
  {
   "cell_type": "code",
   "execution_count": 170,
   "id": "a6d47537-3bdf-4766-8a54-c5e6a161f896",
   "metadata": {
    "tags": []
   },
   "outputs": [
    {
     "name": "stdout",
     "output_type": "stream",
     "text": [
      "1\n",
      "2\n",
      "3\n",
      "4\n",
      "5\n",
      "6\n",
      "7\n",
      "8\n",
      "9\n",
      "10\n",
      "11\n",
      "12\n",
      "13\n",
      "14\n",
      "15\n",
      "16\n",
      "17\n",
      "18\n",
      "19\n",
      "20\n",
      "21\n",
      "22\n",
      "23\n",
      "24\n",
      "25\n",
      "26\n",
      "27\n",
      "28\n",
      "29\n",
      "30\n",
      "31\n",
      "32\n",
      "33\n",
      "34\n",
      "35\n",
      "36\n",
      "37\n",
      "38\n",
      "39\n",
      "40\n",
      "41\n",
      "42\n",
      "43\n",
      "44\n",
      "45\n",
      "46\n",
      "47\n",
      "48\n",
      "49\n",
      "50\n",
      "51\n",
      "52\n",
      "53\n",
      "54\n",
      "55\n",
      "56\n",
      "57\n",
      "58\n",
      "59\n",
      "60\n",
      "61\n",
      "62\n",
      "63\n",
      "64\n",
      "65\n",
      "66\n",
      "67\n",
      "68\n",
      "69\n",
      "70\n",
      "71\n",
      "72\n",
      "73\n",
      "74\n",
      "75\n",
      "76\n",
      "77\n",
      "total extracted : 77\n"
     ]
    },
    {
     "ename": "TypeError",
     "evalue": "write() argument must be str, not None",
     "output_type": "error",
     "traceback": [
      "\u001b[0;31m---------------------------------------------------------------------------\u001b[0m",
      "\u001b[0;31mTypeError\u001b[0m                                 Traceback (most recent call last)",
      "Cell \u001b[0;32mIn[170], line 25\u001b[0m\n\u001b[1;32m     22\u001b[0m file2 \u001b[38;5;241m=\u001b[39m file\u001b[38;5;241m.\u001b[39mreplace(\u001b[38;5;124m'\u001b[39m\u001b[38;5;124m.pdf\u001b[39m\u001b[38;5;124m'\u001b[39m,\u001b[38;5;124m'\u001b[39m\u001b[38;5;124m'\u001b[39m)\u001b[38;5;241m.\u001b[39mreplace(\u001b[38;5;124m'\u001b[39m\u001b[38;5;124m.\u001b[39m\u001b[38;5;124m'\u001b[39m,\u001b[38;5;124m'\u001b[39m\u001b[38;5;124m'\u001b[39m)\n\u001b[1;32m     23\u001b[0m \u001b[38;5;28;01mwith\u001b[39;00m \u001b[38;5;28mopen\u001b[39m(\u001b[38;5;124mf\u001b[39m\u001b[38;5;124m'\u001b[39m\u001b[38;5;132;01m{\u001b[39;00mfile2\u001b[38;5;132;01m}\u001b[39;00m\u001b[38;5;124m.txt\u001b[39m\u001b[38;5;124m'\u001b[39m, \u001b[38;5;124m'\u001b[39m\u001b[38;5;124mw\u001b[39m\u001b[38;5;124m'\u001b[39m, encoding \u001b[38;5;241m=\u001b[39m \u001b[38;5;124m\"\u001b[39m\u001b[38;5;124mutf-8\u001b[39m\u001b[38;5;124m\"\u001b[39m) \u001b[38;5;28;01mas\u001b[39;00m outfile:\n\u001b[1;32m     24\u001b[0m     \u001b[38;5;66;03m# for line in text:\u001b[39;00m\n\u001b[0;32m---> 25\u001b[0m     \u001b[43moutfile\u001b[49m\u001b[38;5;241;43m.\u001b[39;49m\u001b[43mwrite\u001b[49m\u001b[43m(\u001b[49m\u001b[43mtext\u001b[49m\u001b[43m)\u001b[49m\n\u001b[1;32m     26\u001b[0m     outfile\u001b[38;5;241m.\u001b[39mclose()\n",
      "\u001b[0;31mTypeError\u001b[0m: write() argument must be str, not None"
     ]
    }
   ],
   "source": [
    "import os\n",
    "\n",
    "from tika import parser\n",
    "\n",
    "count=0\n",
    "filetexts=dict()\n",
    "# text = parser.from_file('BG220200379.pdf')\n",
    "# print(text['content'])\n",
    "file_path=\"pdffiles/\"\n",
    "for filename in os.listdir(file_path):\n",
    "    f = os.path.join(file_path, filename)\n",
    "    file=f.split('/')[-1]\n",
    "    text = parser.from_file(f\"pdffiles/{file}\")\n",
    "    filetexts[file]=text['content']\n",
    "    # print(text['content'])\n",
    "    count=count+1\n",
    "    print(f\"{count}\")\n",
    "print(f\"total extracted : {count}\")\n",
    "\n",
    "for file, text in filetexts.items():\n",
    "    file2 = file.split('.')[0]\n",
    "    file2 = file.replace('.pdf','').replace('.','')\n",
    "    with open(f'{file2}.txt', 'w', encoding = \"utf-8\") as outfile:\n",
    "        # for line in text:\n",
    "        outfile.write(text)\n",
    "        outfile.close()"
   ]
  }
 ],
 "metadata": {
  "availableInstances": [
   {
    "_defaultOrder": 0,
    "_isFastLaunch": true,
    "category": "General purpose",
    "gpuNum": 0,
    "hideHardwareSpecs": false,
    "memoryGiB": 4,
    "name": "ml.t3.medium",
    "vcpuNum": 2
   },
   {
    "_defaultOrder": 1,
    "_isFastLaunch": false,
    "category": "General purpose",
    "gpuNum": 0,
    "hideHardwareSpecs": false,
    "memoryGiB": 8,
    "name": "ml.t3.large",
    "vcpuNum": 2
   },
   {
    "_defaultOrder": 2,
    "_isFastLaunch": false,
    "category": "General purpose",
    "gpuNum": 0,
    "hideHardwareSpecs": false,
    "memoryGiB": 16,
    "name": "ml.t3.xlarge",
    "vcpuNum": 4
   },
   {
    "_defaultOrder": 3,
    "_isFastLaunch": false,
    "category": "General purpose",
    "gpuNum": 0,
    "hideHardwareSpecs": false,
    "memoryGiB": 32,
    "name": "ml.t3.2xlarge",
    "vcpuNum": 8
   },
   {
    "_defaultOrder": 4,
    "_isFastLaunch": true,
    "category": "General purpose",
    "gpuNum": 0,
    "hideHardwareSpecs": false,
    "memoryGiB": 8,
    "name": "ml.m5.large",
    "vcpuNum": 2
   },
   {
    "_defaultOrder": 5,
    "_isFastLaunch": false,
    "category": "General purpose",
    "gpuNum": 0,
    "hideHardwareSpecs": false,
    "memoryGiB": 16,
    "name": "ml.m5.xlarge",
    "vcpuNum": 4
   },
   {
    "_defaultOrder": 6,
    "_isFastLaunch": false,
    "category": "General purpose",
    "gpuNum": 0,
    "hideHardwareSpecs": false,
    "memoryGiB": 32,
    "name": "ml.m5.2xlarge",
    "vcpuNum": 8
   },
   {
    "_defaultOrder": 7,
    "_isFastLaunch": false,
    "category": "General purpose",
    "gpuNum": 0,
    "hideHardwareSpecs": false,
    "memoryGiB": 64,
    "name": "ml.m5.4xlarge",
    "vcpuNum": 16
   },
   {
    "_defaultOrder": 8,
    "_isFastLaunch": false,
    "category": "General purpose",
    "gpuNum": 0,
    "hideHardwareSpecs": false,
    "memoryGiB": 128,
    "name": "ml.m5.8xlarge",
    "vcpuNum": 32
   },
   {
    "_defaultOrder": 9,
    "_isFastLaunch": false,
    "category": "General purpose",
    "gpuNum": 0,
    "hideHardwareSpecs": false,
    "memoryGiB": 192,
    "name": "ml.m5.12xlarge",
    "vcpuNum": 48
   },
   {
    "_defaultOrder": 10,
    "_isFastLaunch": false,
    "category": "General purpose",
    "gpuNum": 0,
    "hideHardwareSpecs": false,
    "memoryGiB": 256,
    "name": "ml.m5.16xlarge",
    "vcpuNum": 64
   },
   {
    "_defaultOrder": 11,
    "_isFastLaunch": false,
    "category": "General purpose",
    "gpuNum": 0,
    "hideHardwareSpecs": false,
    "memoryGiB": 384,
    "name": "ml.m5.24xlarge",
    "vcpuNum": 96
   },
   {
    "_defaultOrder": 12,
    "_isFastLaunch": false,
    "category": "General purpose",
    "gpuNum": 0,
    "hideHardwareSpecs": false,
    "memoryGiB": 8,
    "name": "ml.m5d.large",
    "vcpuNum": 2
   },
   {
    "_defaultOrder": 13,
    "_isFastLaunch": false,
    "category": "General purpose",
    "gpuNum": 0,
    "hideHardwareSpecs": false,
    "memoryGiB": 16,
    "name": "ml.m5d.xlarge",
    "vcpuNum": 4
   },
   {
    "_defaultOrder": 14,
    "_isFastLaunch": false,
    "category": "General purpose",
    "gpuNum": 0,
    "hideHardwareSpecs": false,
    "memoryGiB": 32,
    "name": "ml.m5d.2xlarge",
    "vcpuNum": 8
   },
   {
    "_defaultOrder": 15,
    "_isFastLaunch": false,
    "category": "General purpose",
    "gpuNum": 0,
    "hideHardwareSpecs": false,
    "memoryGiB": 64,
    "name": "ml.m5d.4xlarge",
    "vcpuNum": 16
   },
   {
    "_defaultOrder": 16,
    "_isFastLaunch": false,
    "category": "General purpose",
    "gpuNum": 0,
    "hideHardwareSpecs": false,
    "memoryGiB": 128,
    "name": "ml.m5d.8xlarge",
    "vcpuNum": 32
   },
   {
    "_defaultOrder": 17,
    "_isFastLaunch": false,
    "category": "General purpose",
    "gpuNum": 0,
    "hideHardwareSpecs": false,
    "memoryGiB": 192,
    "name": "ml.m5d.12xlarge",
    "vcpuNum": 48
   },
   {
    "_defaultOrder": 18,
    "_isFastLaunch": false,
    "category": "General purpose",
    "gpuNum": 0,
    "hideHardwareSpecs": false,
    "memoryGiB": 256,
    "name": "ml.m5d.16xlarge",
    "vcpuNum": 64
   },
   {
    "_defaultOrder": 19,
    "_isFastLaunch": false,
    "category": "General purpose",
    "gpuNum": 0,
    "hideHardwareSpecs": false,
    "memoryGiB": 384,
    "name": "ml.m5d.24xlarge",
    "vcpuNum": 96
   },
   {
    "_defaultOrder": 20,
    "_isFastLaunch": false,
    "category": "General purpose",
    "gpuNum": 0,
    "hideHardwareSpecs": true,
    "memoryGiB": 0,
    "name": "ml.geospatial.interactive",
    "supportedImageNames": [
     "sagemaker-geospatial-v1-0"
    ],
    "vcpuNum": 0
   },
   {
    "_defaultOrder": 21,
    "_isFastLaunch": true,
    "category": "Compute optimized",
    "gpuNum": 0,
    "hideHardwareSpecs": false,
    "memoryGiB": 4,
    "name": "ml.c5.large",
    "vcpuNum": 2
   },
   {
    "_defaultOrder": 22,
    "_isFastLaunch": false,
    "category": "Compute optimized",
    "gpuNum": 0,
    "hideHardwareSpecs": false,
    "memoryGiB": 8,
    "name": "ml.c5.xlarge",
    "vcpuNum": 4
   },
   {
    "_defaultOrder": 23,
    "_isFastLaunch": false,
    "category": "Compute optimized",
    "gpuNum": 0,
    "hideHardwareSpecs": false,
    "memoryGiB": 16,
    "name": "ml.c5.2xlarge",
    "vcpuNum": 8
   },
   {
    "_defaultOrder": 24,
    "_isFastLaunch": false,
    "category": "Compute optimized",
    "gpuNum": 0,
    "hideHardwareSpecs": false,
    "memoryGiB": 32,
    "name": "ml.c5.4xlarge",
    "vcpuNum": 16
   },
   {
    "_defaultOrder": 25,
    "_isFastLaunch": false,
    "category": "Compute optimized",
    "gpuNum": 0,
    "hideHardwareSpecs": false,
    "memoryGiB": 72,
    "name": "ml.c5.9xlarge",
    "vcpuNum": 36
   },
   {
    "_defaultOrder": 26,
    "_isFastLaunch": false,
    "category": "Compute optimized",
    "gpuNum": 0,
    "hideHardwareSpecs": false,
    "memoryGiB": 96,
    "name": "ml.c5.12xlarge",
    "vcpuNum": 48
   },
   {
    "_defaultOrder": 27,
    "_isFastLaunch": false,
    "category": "Compute optimized",
    "gpuNum": 0,
    "hideHardwareSpecs": false,
    "memoryGiB": 144,
    "name": "ml.c5.18xlarge",
    "vcpuNum": 72
   },
   {
    "_defaultOrder": 28,
    "_isFastLaunch": false,
    "category": "Compute optimized",
    "gpuNum": 0,
    "hideHardwareSpecs": false,
    "memoryGiB": 192,
    "name": "ml.c5.24xlarge",
    "vcpuNum": 96
   },
   {
    "_defaultOrder": 29,
    "_isFastLaunch": true,
    "category": "Accelerated computing",
    "gpuNum": 1,
    "hideHardwareSpecs": false,
    "memoryGiB": 16,
    "name": "ml.g4dn.xlarge",
    "vcpuNum": 4
   },
   {
    "_defaultOrder": 30,
    "_isFastLaunch": false,
    "category": "Accelerated computing",
    "gpuNum": 1,
    "hideHardwareSpecs": false,
    "memoryGiB": 32,
    "name": "ml.g4dn.2xlarge",
    "vcpuNum": 8
   },
   {
    "_defaultOrder": 31,
    "_isFastLaunch": false,
    "category": "Accelerated computing",
    "gpuNum": 1,
    "hideHardwareSpecs": false,
    "memoryGiB": 64,
    "name": "ml.g4dn.4xlarge",
    "vcpuNum": 16
   },
   {
    "_defaultOrder": 32,
    "_isFastLaunch": false,
    "category": "Accelerated computing",
    "gpuNum": 1,
    "hideHardwareSpecs": false,
    "memoryGiB": 128,
    "name": "ml.g4dn.8xlarge",
    "vcpuNum": 32
   },
   {
    "_defaultOrder": 33,
    "_isFastLaunch": false,
    "category": "Accelerated computing",
    "gpuNum": 4,
    "hideHardwareSpecs": false,
    "memoryGiB": 192,
    "name": "ml.g4dn.12xlarge",
    "vcpuNum": 48
   },
   {
    "_defaultOrder": 34,
    "_isFastLaunch": false,
    "category": "Accelerated computing",
    "gpuNum": 1,
    "hideHardwareSpecs": false,
    "memoryGiB": 256,
    "name": "ml.g4dn.16xlarge",
    "vcpuNum": 64
   },
   {
    "_defaultOrder": 35,
    "_isFastLaunch": false,
    "category": "Accelerated computing",
    "gpuNum": 1,
    "hideHardwareSpecs": false,
    "memoryGiB": 61,
    "name": "ml.p3.2xlarge",
    "vcpuNum": 8
   },
   {
    "_defaultOrder": 36,
    "_isFastLaunch": false,
    "category": "Accelerated computing",
    "gpuNum": 4,
    "hideHardwareSpecs": false,
    "memoryGiB": 244,
    "name": "ml.p3.8xlarge",
    "vcpuNum": 32
   },
   {
    "_defaultOrder": 37,
    "_isFastLaunch": false,
    "category": "Accelerated computing",
    "gpuNum": 8,
    "hideHardwareSpecs": false,
    "memoryGiB": 488,
    "name": "ml.p3.16xlarge",
    "vcpuNum": 64
   },
   {
    "_defaultOrder": 38,
    "_isFastLaunch": false,
    "category": "Accelerated computing",
    "gpuNum": 8,
    "hideHardwareSpecs": false,
    "memoryGiB": 768,
    "name": "ml.p3dn.24xlarge",
    "vcpuNum": 96
   },
   {
    "_defaultOrder": 39,
    "_isFastLaunch": false,
    "category": "Memory Optimized",
    "gpuNum": 0,
    "hideHardwareSpecs": false,
    "memoryGiB": 16,
    "name": "ml.r5.large",
    "vcpuNum": 2
   },
   {
    "_defaultOrder": 40,
    "_isFastLaunch": false,
    "category": "Memory Optimized",
    "gpuNum": 0,
    "hideHardwareSpecs": false,
    "memoryGiB": 32,
    "name": "ml.r5.xlarge",
    "vcpuNum": 4
   },
   {
    "_defaultOrder": 41,
    "_isFastLaunch": false,
    "category": "Memory Optimized",
    "gpuNum": 0,
    "hideHardwareSpecs": false,
    "memoryGiB": 64,
    "name": "ml.r5.2xlarge",
    "vcpuNum": 8
   },
   {
    "_defaultOrder": 42,
    "_isFastLaunch": false,
    "category": "Memory Optimized",
    "gpuNum": 0,
    "hideHardwareSpecs": false,
    "memoryGiB": 128,
    "name": "ml.r5.4xlarge",
    "vcpuNum": 16
   },
   {
    "_defaultOrder": 43,
    "_isFastLaunch": false,
    "category": "Memory Optimized",
    "gpuNum": 0,
    "hideHardwareSpecs": false,
    "memoryGiB": 256,
    "name": "ml.r5.8xlarge",
    "vcpuNum": 32
   },
   {
    "_defaultOrder": 44,
    "_isFastLaunch": false,
    "category": "Memory Optimized",
    "gpuNum": 0,
    "hideHardwareSpecs": false,
    "memoryGiB": 384,
    "name": "ml.r5.12xlarge",
    "vcpuNum": 48
   },
   {
    "_defaultOrder": 45,
    "_isFastLaunch": false,
    "category": "Memory Optimized",
    "gpuNum": 0,
    "hideHardwareSpecs": false,
    "memoryGiB": 512,
    "name": "ml.r5.16xlarge",
    "vcpuNum": 64
   },
   {
    "_defaultOrder": 46,
    "_isFastLaunch": false,
    "category": "Memory Optimized",
    "gpuNum": 0,
    "hideHardwareSpecs": false,
    "memoryGiB": 768,
    "name": "ml.r5.24xlarge",
    "vcpuNum": 96
   },
   {
    "_defaultOrder": 47,
    "_isFastLaunch": false,
    "category": "Accelerated computing",
    "gpuNum": 1,
    "hideHardwareSpecs": false,
    "memoryGiB": 16,
    "name": "ml.g5.xlarge",
    "vcpuNum": 4
   },
   {
    "_defaultOrder": 48,
    "_isFastLaunch": false,
    "category": "Accelerated computing",
    "gpuNum": 1,
    "hideHardwareSpecs": false,
    "memoryGiB": 32,
    "name": "ml.g5.2xlarge",
    "vcpuNum": 8
   },
   {
    "_defaultOrder": 49,
    "_isFastLaunch": false,
    "category": "Accelerated computing",
    "gpuNum": 1,
    "hideHardwareSpecs": false,
    "memoryGiB": 64,
    "name": "ml.g5.4xlarge",
    "vcpuNum": 16
   },
   {
    "_defaultOrder": 50,
    "_isFastLaunch": false,
    "category": "Accelerated computing",
    "gpuNum": 1,
    "hideHardwareSpecs": false,
    "memoryGiB": 128,
    "name": "ml.g5.8xlarge",
    "vcpuNum": 32
   },
   {
    "_defaultOrder": 51,
    "_isFastLaunch": false,
    "category": "Accelerated computing",
    "gpuNum": 1,
    "hideHardwareSpecs": false,
    "memoryGiB": 256,
    "name": "ml.g5.16xlarge",
    "vcpuNum": 64
   },
   {
    "_defaultOrder": 52,
    "_isFastLaunch": false,
    "category": "Accelerated computing",
    "gpuNum": 4,
    "hideHardwareSpecs": false,
    "memoryGiB": 192,
    "name": "ml.g5.12xlarge",
    "vcpuNum": 48
   },
   {
    "_defaultOrder": 53,
    "_isFastLaunch": false,
    "category": "Accelerated computing",
    "gpuNum": 4,
    "hideHardwareSpecs": false,
    "memoryGiB": 384,
    "name": "ml.g5.24xlarge",
    "vcpuNum": 96
   },
   {
    "_defaultOrder": 54,
    "_isFastLaunch": false,
    "category": "Accelerated computing",
    "gpuNum": 8,
    "hideHardwareSpecs": false,
    "memoryGiB": 768,
    "name": "ml.g5.48xlarge",
    "vcpuNum": 192
   },
   {
    "_defaultOrder": 55,
    "_isFastLaunch": false,
    "category": "Accelerated computing",
    "gpuNum": 8,
    "hideHardwareSpecs": false,
    "memoryGiB": 1152,
    "name": "ml.p4d.24xlarge",
    "vcpuNum": 96
   },
   {
    "_defaultOrder": 56,
    "_isFastLaunch": false,
    "category": "Accelerated computing",
    "gpuNum": 8,
    "hideHardwareSpecs": false,
    "memoryGiB": 1152,
    "name": "ml.p4de.24xlarge",
    "vcpuNum": 96
   }
  ],
  "instance_type": "ml.t3.medium",
  "kernelspec": {
   "display_name": "Python 3 (Data Science 3.0)",
   "language": "python",
   "name": "python3__SAGEMAKER_INTERNAL__arn:aws:sagemaker:eu-west-1:470317259841:image/sagemaker-data-science-310-v1"
  },
  "language_info": {
   "codemirror_mode": {
    "name": "ipython",
    "version": 3
   },
   "file_extension": ".py",
   "mimetype": "text/x-python",
   "name": "python",
   "nbconvert_exporter": "python",
   "pygments_lexer": "ipython3",
   "version": "3.10.6"
  }
 },
 "nbformat": 4,
 "nbformat_minor": 5
}
