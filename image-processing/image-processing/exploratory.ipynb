{
 "cells": [
  {
   "cell_type": "code",
   "execution_count": 6,
   "id": "c9b3c0b7-9fd6-4ebc-b56a-d3b6ce5e4c13",
   "metadata": {
    "tags": []
   },
   "outputs": [
    {
     "name": "stdout",
     "output_type": "stream",
     "text": [
      "sagemaker.config INFO - Not applying SDK defaults from location: /etc/xdg/sagemaker/config.yaml\n",
      "sagemaker.config INFO - Not applying SDK defaults from location: /root/.config/sagemaker/config.yaml\n"
     ]
    }
   ],
   "source": [
    "import boto3\n",
    "import time\n",
    "import sagemaker\n",
    "import fitz\n",
    "from io import BytesIO"
   ]
  },
  {
   "cell_type": "code",
   "execution_count": 7,
   "id": "322126f6-0e94-4d84-8903-5649cdf4c677",
   "metadata": {
    "tags": []
   },
   "outputs": [],
   "source": [
    "from textractor import Textractor\n",
    "from textractor.data.constants import Textract_API, TextractFeatures\n",
    "from textractor.data.text_linearization_config import TextLinearizationConfig"
   ]
  },
  {
   "cell_type": "code",
   "execution_count": 8,
   "id": "f431c25d-79c3-4737-898a-e41a6226db22",
   "metadata": {
    "tags": []
   },
   "outputs": [],
   "source": [
    "filetexts  = dict()"
   ]
  },
  {
   "cell_type": "code",
   "execution_count": 9,
   "id": "9681a5ca-abea-4e42-8c72-601ca645e18b",
   "metadata": {
    "tags": []
   },
   "outputs": [],
   "source": [
    "def is_pdf_openable(bucket,key):\n",
    "    try:\n",
    "        response=s3_client.get_object(Bucket=bucket,Key=key)\n",
    "        pdf_content=response['Body'].read()\n",
    "        doc=fitz.open(stream=BytesIO(pdf_content))\n",
    "        doc.close()\n",
    "        return True\n",
    "    except Exception as e:\n",
    "        print(f\"error opening {key}: {str(e)}\")\n",
    "        return False"
   ]
  },
  {
   "cell_type": "code",
   "execution_count": 13,
   "id": "eac72138-52e0-4665-9a17-08ff9f08861d",
   "metadata": {
    "tags": []
   },
   "outputs": [
    {
     "name": "stdout",
     "output_type": "stream",
     "text": [
      "BondingLine_data/Identification 2/DACH/SE Austria_UniCredit Bank Austria_2006.pdf\n",
      "files completed: [1/65]\n",
      "BondingLine_data/Identification 2/DACH/SE Austria_UniCredit Bank Austria_2014.pdf\n",
      "files completed: [2/65]\n",
      "BondingLine_data/Identification 2/DACH/SE Austria_UniCredit Bank Austria_2016.pdf\n",
      "files completed: [3/65]\n",
      "BondingLine_data/Identification 2/DACH/SE Austria_UniCredit Bank Austria_2018.pdf\n",
      "files completed: [4/65]\n",
      "BondingLine_data/Identification 2/DACH/SE Gemany_Commerzbank_amendment nr._6_11.2016.pdf\n",
      "files completed: [5/65]\n",
      "BondingLine_data/Identification 2/DACH/SE Gemany_HSBC_2022.pdf\n",
      "files completed: [6/65]\n",
      "BondingLine_data/Identification 2/DACH/SE Gemany_HSBC_amendment1_2017.pdf\n",
      "files completed: [7/65]\n",
      "BondingLine_data/Identification 2/DACH/SE Gemany_HSBC_amendment2_2018.pdf\n",
      "files completed: [8/65]\n",
      "BondingLine_data/Identification 2/DACH/SE Gemany_HSBC_amendment3_2019.pdf\n",
      "files completed: [9/65]\n",
      "BondingLine_data/Identification 2/DACH/SE Gemany_HSBC_amendment4_2019.pdf\n",
      "files completed: [10/65]\n",
      "BondingLine_data/Identification 2/DACH/SE Gemany_Nordea_2016.pdf\n",
      "files completed: [11/65]\n",
      "BondingLine_data/Identification 2/DACH/SE Germany_Deutsche Bank_Areva.pdf\n",
      "files completed: [12/65]\n",
      "BondingLine_data/Identification 2/DACH/SE Switzerland_CH01_Deutsche Bank_amendment2_2022.pdf\n",
      "files completed: [13/65]\n",
      "BondingLine_data/Identification 2/DACH/SE Switzerland_CH16_CIC_2020.pdf\n",
      "files completed: [14/65]\n",
      "BondingLine_data/Identification 2/DACH/SE Switzerland_CH16_Credit Suisse_2014.pdf\n",
      "files completed: [15/65]\n",
      "BondingLine_data/Identification 2/DACH/SE Switzerland_CH16_Credit Suisse_amendment2016.pdf\n",
      "files completed: [16/65]\n",
      "BondingLine_data/Identification 2/DACH/SE Switzerland_UBS_2019.pdf\n",
      "files completed: [17/65]\n",
      "BondingLine_data/Identification 2/France/SE France__Atradius_2010.pdf\n",
      "files completed: [18/65]\n",
      "BondingLine_data/Identification 2/France/SE France__BNP_2017.pdf\n",
      "files completed: [19/65]\n",
      "BondingLine_data/Identification 2/France/SE France__Societe Generale_2017.pdf\n",
      "files completed: [20/65]\n",
      "BondingLine_data/Identification 2/France/SE France__Societe Generale_amendment_2018.pdf\n",
      "files completed: [21/65]\n",
      "BondingLine_data/Identification 2/Indonesia/SE Indonesia_Citi_2013_part1.pdf\n",
      "files completed: [22/65]\n",
      "BondingLine_data/Identification 2/Indonesia/SE Indonesia_Citi_2013_part2.pdf\n",
      "files completed: [23/65]\n",
      "BondingLine_data/Identification 2/Indonesia/SE Indonesia_HSBC_amendment_2015.pdf\n",
      "files completed: [24/65]\n",
      "BondingLine_data/Identification 2/Indonesia/SE Indonesia_JP Morgan Chase_2012.pdf\n",
      "files completed: [25/65]\n",
      "BondingLine_data/Identification 2/Indonesia/SE Indonesia_JP Morgan Chase_2015.pdf\n",
      "files completed: [26/65]\n",
      "BondingLine_data/Identification 2/Malaysia/SE Malaysia_Gutor_Citi_amendment_2013.pdf\n",
      "files completed: [27/65]\n",
      "BondingLine_data/Identification 2/Malaysia/SE Malaysia_Standard Chartered_amendment_2014.pdf\n",
      "files completed: [28/65]\n",
      "BondingLine_data/Identification 2/Malaysia/SE Malaysia__Citi_2011.pdf\n",
      "files completed: [29/65]\n",
      "BondingLine_data/Identification 2/Malaysia/SE Malaysia__Deutsche Bank_2013.pdf\n",
      "files completed: [30/65]\n",
      "BondingLine_data/Identification 2/Malaysia/SE Malaysia__Deutsche Bank_amendment_2015.pdf\n",
      "files completed: [31/65]\n",
      "BondingLine_data/Identification 2/Malaysia/SE Malaysia__HSBC_2018.pdf\n",
      "files completed: [32/65]\n",
      "BondingLine_data/Identification 2/Singapore/SE Singapore__Citi_2015.pdf\n",
      "files completed: [33/65]\n",
      "BondingLine_data/Identification 2/Singapore/SE Singapore__Citi_amendment_2020.pdf\n",
      "files completed: [34/65]\n",
      "BondingLine_data/Identification 2/Singapore/SE Singapore__Deutsche Bank_amendment_2015.pdf\n",
      "files completed: [35/65]\n",
      "BondingLine_data/Identification 2/Singapore/SE Singapore__Deutsche Bank_amendment_2016.pdf\n",
      "files completed: [36/65]\n",
      "BondingLine_data/Identification 2/UAE/SE UAE__HSBC_2015.pdf\n",
      "files completed: [37/65]\n",
      "BondingLine_data/Identification 2/UAE/SE UAE__Standard Chartered_2016.pdf\n",
      "files completed: [38/65]\n",
      "BondingLine_data/Identification 2/UK/SE UK_Barclays__facility_agreement.pdf\n",
      "files completed: [39/65]\n",
      "BondingLine_data/Identification 2/UK/SE UK_Barclays__facility_agreement_amendment Nov2014.pdf\n",
      "files completed: [40/65]\n",
      "BondingLine_data/Identification/BNP/Brazil/09023376_bnp_facility_signed_2018.pdf\n",
      "files completed: [41/65]\n",
      "BondingLine_data/Identification/BNP/Brazil/Hong Kong/11101947_bnp_facility_letter_21dec_2018.pdf\n",
      "files completed: [42/65]\n",
      "BondingLine_data/Identification/BNP/Brazil/Hong Kong/17191940_bnp_facility_letter_26_jun_2014.pdf\n",
      "files completed: [43/65]\n",
      "BondingLine_data/Identification/BNP/France/12482610_bnp_solar_signed_version__se___bnp.pdf\n",
      "files completed: [44/65]\n",
      "BondingLine_data/Identification/BNP/France/20221108120653_lettrecontregarantie_banqueparibas_10051994.do.pdf\n",
      "files completed: [45/65]\n",
      "BondingLine_data/Identification/BNP/France/20221108120705_lettrecontregarantie_bnp_10051994.doc.pdf\n",
      "files completed: [46/65]\n",
      "BondingLine_data/Identification/BNP/France/20221108120813_se_energy_france_conditions_cadre-fr-bnpp_schn.pdf\n",
      "files completed: [47/65]\n",
      "BondingLine_data/Identification/BNP/France/20221108120847_sef_conditions_cadre-fr-bnpp_schneider_sign_e_.pdf\n",
      "files completed: [48/65]\n",
      "BondingLine_data/Identification/BNP/France/20221108120923_sei_sas_conditions_cadre-fr-bnpp_schneider_sig.pdf\n",
      "files completed: [49/65]\n",
      "BondingLine_data/Identification/BNP/Singapore/10551771_bnp_credit_facility_30m.pdf\n",
      "files completed: [50/65]\n",
      "BondingLine_data/Identification/BNP/Singapore/11454438_bnp_indemnity_t_and_cs_june_2018.pdf\n",
      "files completed: [51/65]\n",
      "BondingLine_data/Identification/BNP/Singapore/12304751_bnp_paribas_facility_letter_05082019.pdf\n",
      "files completed: [52/65]\n",
      "BondingLine_data/Identification/BNP/Singapore/12382593_bnp_credit_facility_20m.pdf\n",
      "files completed: [53/65]\n",
      "BondingLine_data/Identification/BNP/Singapore/18564899_bnp_credit_facility_19m-kallang_bldg_.pdf\n",
      "files completed: [54/65]\n",
      "BondingLine_data/Identification/Citibank/Algeria/16433147_contrat_citi_2015.pdf\n",
      "files completed: [55/65]\n",
      "BondingLine_data/Identification/Citibank/Algeria/17430437_img08479.pdf\n",
      "files completed: [56/65]\n",
      "BondingLine_data/Identification/Citibank/India/10113677_credit_limit_enhancement_85_core.pdf\n",
      "files completed: [57/65]\n",
      "BondingLine_data/Identification/Citibank/India/15304775_uploadfile_credit_limit_enhancement_200_crore.pdf\n",
      "files completed: [58/65]\n",
      "BondingLine_data/Identification/Citibank/Netherlands/CITI_Netherlands.pdf\n",
      "files completed: [59/65]\n",
      "BondingLine_data/Identification/Citibank/Perou/12200883_citibank_invensys_.pdf\n",
      "files completed: [60/65]\n",
      "BondingLine_data/Identification/Citibank/Perou/12203875_citibank_invensys.pdf\n",
      "files completed: [61/65]\n",
      "BondingLine_data/Identification/Citibank/Perou/12204571_citibank_schneider_agreement.pdf\n",
      "files completed: [62/65]\n",
      "BondingLine_data/Identification/Citibank/Singapore/11101844_signed_fol_3_feb_2020.pdf\n",
      "files completed: [63/65]\n",
      "BondingLine_data/Identification/Citibank/Singapore/18095155_citi_fol_br_-_singapore_-_01oct2015_-_signed.pdf\n",
      "files completed: [64/65]\n",
      "BondingLine_data/Identification/DACH/2015-12-23 Guarantee Fac Agreement Gutor EUR 25 mn signed original in safe.pdf\n",
      "files completed: [65/65]\n",
      "BondingLine_data/Identification/DACH/Germany_DE02_Commerzbank.pdf\n",
      "files completed: [66/65]\n",
      "BondingLine_data/Identification/DACH/Germany_DE02_Deutsche Bank.pdf\n",
      "files completed: [67/65]\n",
      "BondingLine_data/Identification/DACH/Germany_DE02_Deutsche Bank_amendment2021.pdf\n",
      "files completed: [68/65]\n",
      "BondingLine_data/Identification/DACH/Germany_DE02_Deutsche Bank_amendment2022.pdf\n",
      "files completed: [69/65]\n",
      "BondingLine_data/Identification/DACH/Germany_DE02_HSBC_2020.pdf\n",
      "files completed: [70/65]\n",
      "BondingLine_data/Identification/DACH/Switzerland_CH16_Amendment.pdf\n",
      "files completed: [71/65]\n",
      "BondingLine_data/Identification/Egypt/Egypt_EG01_CIB.pdf\n",
      "files completed: [72/65]\n",
      "BondingLine_data/Identification/Egypt/Egypt_EG01_Credit Agricole.pdf\n",
      "files completed: [73/65]\n",
      "BondingLine_data/Identification/Egypt/Egypt_EG01_HSBC.pdf\n",
      "files completed: [74/65]\n",
      "BondingLine_data/Identification/HSBC/China/09130373_uploadfile_hsbc__fol__nov_2019.pdf\n",
      "files completed: [75/65]\n",
      "BondingLine_data/Identification/HSBC/China/09543819_hscb__gtree_facility__all_china_entities__executed_dec_2015.pdf\n",
      "files completed: [76/65]\n",
      "BondingLine_data/Identification/HSBC/China/09544624_invensys_china__hsbc__counter_indemnity__signed.pdf\n",
      "files completed: [77/65]\n",
      "BondingLine_data/Identification/HSBC/China/09545258_invensys_china__hsbc__facility_letter_offer__signed.pdf\n",
      "files completed: [78/65]\n",
      "BondingLine_data/Identification/HSBC/China/13233786_hsbc__fol__nov_2019.pdf\n",
      "files completed: [79/65]\n",
      "BondingLine_data/Identification/HSBC/Egypt/17063290_hsbc.pdf\n",
      "files completed: [80/65]\n",
      "BondingLine_data/Identification/HSBC/Germany/08403499_hsbc_3._amendment_04.2019.pdf\n",
      "files completed: [81/65]\n",
      "BondingLine_data/Identification/HSBC/Germany/08521311_hsbc_2._nachtrag_kreditvertrag.pdf\n",
      "files completed: [82/65]\n",
      "BondingLine_data/Identification/HSBC/Germany/10244241_hsbc_credit_line_until_30.11.2017.pdf\n",
      "files completed: [83/65]\n",
      "BondingLine_data/Identification/HSBC/Germany/11391249_fichier_pdf.pdf\n",
      "files completed: [84/65]\n",
      "BondingLine_data/Identification/HSBC/Germany/15271140_hsbc_credit_line_04.2020__002_.pdf\n",
      "files completed: [85/65]\n",
      "BondingLine_data/Identification/HSBC/Germany/20220725172039_hsbc_kreditvertrag_2022.07.pdf\n",
      "files completed: [86/65]\n",
      "BondingLine_data/Identification/HSBC/India/17291901_in20_hsbc.pdf\n",
      "files completed: [87/65]\n",
      "BondingLine_data/Identification/HSBC/Malaysia/12455892_hsbc__fol_30.3.18.pdf\n",
      "files completed: [88/65]\n",
      "BondingLine_data/Identification/HSBC/Qatar/12451230_hsbc_qatar_.pdf\n",
      "files completed: [89/65]\n",
      "BondingLine_data/Identification/India/CA Facility letter.pdf\n",
      "files completed: [90/65]\n",
      "BondingLine_data/Identification/India/CA_facility letter amnd 7 Jan 22.pdf\n",
      "files completed: [91/65]\n",
      "BondingLine_data/Identification/India/HDFC_12.08.2022.pdf\n",
      "files completed: [92/65]\n",
      "BondingLine_data/Identification/India/India_IN01_BNP.pdf\n",
      "files completed: [93/65]\n",
      "BondingLine_data/Identification/India/India_IN01_BNP_2021.pdf\n",
      "files completed: [94/65]\n",
      "BondingLine_data/Identification/India/India_IN07_Citibank.pdf\n",
      "files completed: [95/65]\n",
      "BondingLine_data/Identification/India/India_IN07_Citibank_amendment2015.pdf\n",
      "files completed: [96/65]\n",
      "BondingLine_data/Identification/India/India_IN07_Citibank_amendment2022.pdf\n",
      "files completed: [97/65]\n",
      "BondingLine_data/Identification/India/India_IN20_BNP.pdf\n",
      "files completed: [98/65]\n",
      "BondingLine_data/Identification/India/India_IN20_BNP_2021.pdf\n",
      "files completed: [99/65]\n",
      "BondingLine_data/Identification/India/India_IN20_HSBC.pdf\n",
      "files completed: [100/65]\n",
      "BondingLine_data/Identification/India/Renewal Letter 29.06.21 (002).pdf\n",
      "files completed: [101/65]\n",
      "101\n"
     ]
    }
   ],
   "source": [
    "s3_client = boto3.client('s3')\n",
    "s3_bucket_name = 's3sagemakerbucket'\n",
    "count=0\n",
    "pdf_files=[]\n",
    "def read_pdf_files_from_folder(folder_path):\n",
    "    global count\n",
    "    response = s3_client.list_objects_v2(Bucket=s3_bucket_name, Prefix=folder_path)\n",
    "    for obj in response['Contents']:\n",
    "        if obj['Key'].endswith('.pdf'):\n",
    "            print(obj['Key'])\n",
    "            if is_pdf_openable(s3_bucket_name,obj['Key']):\n",
    "                count=count+1\n",
    "                pdf_files.append(obj['Key'])\n",
    "\n",
    "                document_name = obj['Key']\n",
    "                file=obj['Key'].split('/')[-1]\n",
    "\n",
    "                extractor = Textractor(region_name=\"eu-west-1\")\n",
    "                markdown_text = \"\"\n",
    "                textract_json = extractor.start_document_analysis(\n",
    "                    file_source=f\"s3://s3sagemakerbucket/{obj['Key']}\",\n",
    "                    features=[TextractFeatures.LAYOUT, TextractFeatures.TABLES],\n",
    "                    save_image=False,\n",
    "                )\n",
    "                response_textract_async = extractor.get_result(job_id=textract_json.job_id, api=Textract_API.ANALYZE)\n",
    "                markdown_text = response_textract_async.to_markdown()\n",
    "                filetexts[file] = markdown_text\n",
    "                print(f\"files completed: [{count}/65]\")\n",
    "        else:\n",
    "            if obj['Key'].endswith('\\/'):\n",
    "                read_pdf_files_from_folder(obj['Key'])\n",
    "\n",
    "folder_name = \"BondingLine_data/\"\n",
    "read_pdf_files_from_folder(folder_name)\n",
    "print(count)"
   ]
  },
  {
   "cell_type": "code",
   "execution_count": 14,
   "id": "ecc75007-5001-41ab-9bce-a0b319e9e311",
   "metadata": {
    "tags": []
   },
   "outputs": [
    {
     "data": {
      "text/plain": [
       "101"
      ]
     },
     "execution_count": 14,
     "metadata": {},
     "output_type": "execute_result"
    }
   ],
   "source": [
    "len(filetexts)"
   ]
  },
  {
   "cell_type": "code",
   "execution_count": 15,
   "id": "61c1f3d1-1ae6-4000-997b-ff9f77dc8ef9",
   "metadata": {
    "tags": []
   },
   "outputs": [
    {
     "name": "stdout",
     "output_type": "stream",
     "text": [
      "['BondingLine_data/Identification 2/DACH/SE Austria_UniCredit Bank Austria_2006.pdf', 'BondingLine_data/Identification 2/DACH/SE Austria_UniCredit Bank Austria_2014.pdf', 'BondingLine_data/Identification 2/DACH/SE Austria_UniCredit Bank Austria_2016.pdf', 'BondingLine_data/Identification 2/DACH/SE Austria_UniCredit Bank Austria_2018.pdf', 'BondingLine_data/Identification 2/DACH/SE Gemany_Commerzbank_amendment nr._6_11.2016.pdf', 'BondingLine_data/Identification 2/DACH/SE Gemany_HSBC_2022.pdf', 'BondingLine_data/Identification 2/DACH/SE Gemany_HSBC_amendment1_2017.pdf', 'BondingLine_data/Identification 2/DACH/SE Gemany_HSBC_amendment2_2018.pdf', 'BondingLine_data/Identification 2/DACH/SE Gemany_HSBC_amendment3_2019.pdf', 'BondingLine_data/Identification 2/DACH/SE Gemany_HSBC_amendment4_2019.pdf', 'BondingLine_data/Identification 2/DACH/SE Gemany_Nordea_2016.pdf', 'BondingLine_data/Identification 2/DACH/SE Germany_Deutsche Bank_Areva.pdf', 'BondingLine_data/Identification 2/DACH/SE Switzerland_CH01_Deutsche Bank_amendment2_2022.pdf', 'BondingLine_data/Identification 2/DACH/SE Switzerland_CH16_CIC_2020.pdf', 'BondingLine_data/Identification 2/DACH/SE Switzerland_CH16_Credit Suisse_2014.pdf', 'BondingLine_data/Identification 2/DACH/SE Switzerland_CH16_Credit Suisse_amendment2016.pdf', 'BondingLine_data/Identification 2/DACH/SE Switzerland_UBS_2019.pdf', 'BondingLine_data/Identification 2/France/SE France__Atradius_2010.pdf', 'BondingLine_data/Identification 2/France/SE France__BNP_2017.pdf', 'BondingLine_data/Identification 2/France/SE France__Societe Generale_2017.pdf', 'BondingLine_data/Identification 2/France/SE France__Societe Generale_amendment_2018.pdf', 'BondingLine_data/Identification 2/Indonesia/SE Indonesia_Citi_2013_part1.pdf', 'BondingLine_data/Identification 2/Indonesia/SE Indonesia_Citi_2013_part2.pdf', 'BondingLine_data/Identification 2/Indonesia/SE Indonesia_HSBC_amendment_2015.pdf', 'BondingLine_data/Identification 2/Indonesia/SE Indonesia_JP Morgan Chase_2012.pdf', 'BondingLine_data/Identification 2/Indonesia/SE Indonesia_JP Morgan Chase_2015.pdf', 'BondingLine_data/Identification 2/Malaysia/SE Malaysia_Gutor_Citi_amendment_2013.pdf', 'BondingLine_data/Identification 2/Malaysia/SE Malaysia_Standard Chartered_amendment_2014.pdf', 'BondingLine_data/Identification 2/Malaysia/SE Malaysia__Citi_2011.pdf', 'BondingLine_data/Identification 2/Malaysia/SE Malaysia__Deutsche Bank_2013.pdf', 'BondingLine_data/Identification 2/Malaysia/SE Malaysia__Deutsche Bank_amendment_2015.pdf', 'BondingLine_data/Identification 2/Malaysia/SE Malaysia__HSBC_2018.pdf', 'BondingLine_data/Identification 2/Singapore/SE Singapore__Citi_2015.pdf', 'BondingLine_data/Identification 2/Singapore/SE Singapore__Citi_amendment_2020.pdf', 'BondingLine_data/Identification 2/Singapore/SE Singapore__Deutsche Bank_amendment_2015.pdf', 'BondingLine_data/Identification 2/Singapore/SE Singapore__Deutsche Bank_amendment_2016.pdf', 'BondingLine_data/Identification 2/UAE/SE UAE__HSBC_2015.pdf', 'BondingLine_data/Identification 2/UAE/SE UAE__Standard Chartered_2016.pdf', 'BondingLine_data/Identification 2/UK/SE UK_Barclays__facility_agreement.pdf', 'BondingLine_data/Identification 2/UK/SE UK_Barclays__facility_agreement_amendment Nov2014.pdf', 'BondingLine_data/Identification/BNP/Brazil/09023376_bnp_facility_signed_2018.pdf', 'BondingLine_data/Identification/BNP/Brazil/Hong Kong/11101947_bnp_facility_letter_21dec_2018.pdf', 'BondingLine_data/Identification/BNP/Brazil/Hong Kong/17191940_bnp_facility_letter_26_jun_2014.pdf', 'BondingLine_data/Identification/BNP/France/12482610_bnp_solar_signed_version__se___bnp.pdf', 'BondingLine_data/Identification/BNP/France/20221108120653_lettrecontregarantie_banqueparibas_10051994.do.pdf', 'BondingLine_data/Identification/BNP/France/20221108120705_lettrecontregarantie_bnp_10051994.doc.pdf', 'BondingLine_data/Identification/BNP/France/20221108120813_se_energy_france_conditions_cadre-fr-bnpp_schn.pdf', 'BondingLine_data/Identification/BNP/France/20221108120847_sef_conditions_cadre-fr-bnpp_schneider_sign_e_.pdf', 'BondingLine_data/Identification/BNP/France/20221108120923_sei_sas_conditions_cadre-fr-bnpp_schneider_sig.pdf', 'BondingLine_data/Identification/BNP/Singapore/10551771_bnp_credit_facility_30m.pdf', 'BondingLine_data/Identification/BNP/Singapore/11454438_bnp_indemnity_t_and_cs_june_2018.pdf', 'BondingLine_data/Identification/BNP/Singapore/12304751_bnp_paribas_facility_letter_05082019.pdf', 'BondingLine_data/Identification/BNP/Singapore/12382593_bnp_credit_facility_20m.pdf', 'BondingLine_data/Identification/BNP/Singapore/18564899_bnp_credit_facility_19m-kallang_bldg_.pdf', 'BondingLine_data/Identification/Citibank/Algeria/16433147_contrat_citi_2015.pdf', 'BondingLine_data/Identification/Citibank/Algeria/17430437_img08479.pdf', 'BondingLine_data/Identification/Citibank/India/10113677_credit_limit_enhancement_85_core.pdf', 'BondingLine_data/Identification/Citibank/India/15304775_uploadfile_credit_limit_enhancement_200_crore.pdf', 'BondingLine_data/Identification/Citibank/Netherlands/CITI_Netherlands.pdf', 'BondingLine_data/Identification/Citibank/Perou/12200883_citibank_invensys_.pdf', 'BondingLine_data/Identification/Citibank/Perou/12203875_citibank_invensys.pdf', 'BondingLine_data/Identification/Citibank/Perou/12204571_citibank_schneider_agreement.pdf', 'BondingLine_data/Identification/Citibank/Singapore/11101844_signed_fol_3_feb_2020.pdf', 'BondingLine_data/Identification/Citibank/Singapore/18095155_citi_fol_br_-_singapore_-_01oct2015_-_signed.pdf', 'BondingLine_data/Identification/DACH/2015-12-23 Guarantee Fac Agreement Gutor EUR 25 mn signed original in safe.pdf', 'BondingLine_data/Identification/DACH/Germany_DE02_Commerzbank.pdf', 'BondingLine_data/Identification/DACH/Germany_DE02_Deutsche Bank.pdf', 'BondingLine_data/Identification/DACH/Germany_DE02_Deutsche Bank_amendment2021.pdf', 'BondingLine_data/Identification/DACH/Germany_DE02_Deutsche Bank_amendment2022.pdf', 'BondingLine_data/Identification/DACH/Germany_DE02_HSBC_2020.pdf', 'BondingLine_data/Identification/DACH/Switzerland_CH16_Amendment.pdf', 'BondingLine_data/Identification/Egypt/Egypt_EG01_CIB.pdf', 'BondingLine_data/Identification/Egypt/Egypt_EG01_Credit Agricole.pdf', 'BondingLine_data/Identification/Egypt/Egypt_EG01_HSBC.pdf', 'BondingLine_data/Identification/HSBC/China/09130373_uploadfile_hsbc__fol__nov_2019.pdf', 'BondingLine_data/Identification/HSBC/China/09543819_hscb__gtree_facility__all_china_entities__executed_dec_2015.pdf', 'BondingLine_data/Identification/HSBC/China/09544624_invensys_china__hsbc__counter_indemnity__signed.pdf', 'BondingLine_data/Identification/HSBC/China/09545258_invensys_china__hsbc__facility_letter_offer__signed.pdf', 'BondingLine_data/Identification/HSBC/China/13233786_hsbc__fol__nov_2019.pdf', 'BondingLine_data/Identification/HSBC/Egypt/17063290_hsbc.pdf', 'BondingLine_data/Identification/HSBC/Germany/08403499_hsbc_3._amendment_04.2019.pdf', 'BondingLine_data/Identification/HSBC/Germany/08521311_hsbc_2._nachtrag_kreditvertrag.pdf', 'BondingLine_data/Identification/HSBC/Germany/10244241_hsbc_credit_line_until_30.11.2017.pdf', 'BondingLine_data/Identification/HSBC/Germany/11391249_fichier_pdf.pdf', 'BondingLine_data/Identification/HSBC/Germany/15271140_hsbc_credit_line_04.2020__002_.pdf', 'BondingLine_data/Identification/HSBC/Germany/20220725172039_hsbc_kreditvertrag_2022.07.pdf', 'BondingLine_data/Identification/HSBC/India/17291901_in20_hsbc.pdf', 'BondingLine_data/Identification/HSBC/Malaysia/12455892_hsbc__fol_30.3.18.pdf', 'BondingLine_data/Identification/HSBC/Qatar/12451230_hsbc_qatar_.pdf', 'BondingLine_data/Identification/India/CA Facility letter.pdf', 'BondingLine_data/Identification/India/CA_facility letter amnd 7 Jan 22.pdf', 'BondingLine_data/Identification/India/HDFC_12.08.2022.pdf', 'BondingLine_data/Identification/India/India_IN01_BNP.pdf', 'BondingLine_data/Identification/India/India_IN01_BNP_2021.pdf', 'BondingLine_data/Identification/India/India_IN07_Citibank.pdf', 'BondingLine_data/Identification/India/India_IN07_Citibank_amendment2015.pdf', 'BondingLine_data/Identification/India/India_IN07_Citibank_amendment2022.pdf', 'BondingLine_data/Identification/India/India_IN20_BNP.pdf', 'BondingLine_data/Identification/India/India_IN20_BNP_2021.pdf', 'BondingLine_data/Identification/India/India_IN20_HSBC.pdf', 'BondingLine_data/Identification/India/Renewal Letter 29.06.21 (002).pdf']\n"
     ]
    }
   ],
   "source": [
    "print(pdf_files)"
   ]
  },
  {
   "cell_type": "code",
   "execution_count": 24,
   "id": "b56ff68c-e60f-45d1-ae36-8420e77356df",
   "metadata": {
    "tags": []
   },
   "outputs": [],
   "source": [
    "!mkdir -p \"bonding_line_textfiles\"\n",
    "for file, text in filetexts.items():\n",
    "    file2 = file.split('.')[0]\n",
    "    file2 = file.replace('.pdf','').replace('.','')\n",
    "    with open(f\"bonding_line_textfiles/{file2}.txt\", 'w', encoding = \"utf-8\") as outfile:\n",
    "        outfile.write(text)\n",
    "    outfile.close()"
   ]
  }
 ],
 "metadata": {
  "availableInstances": [
   {
    "_defaultOrder": 0,
    "_isFastLaunch": true,
    "category": "General purpose",
    "gpuNum": 0,
    "hideHardwareSpecs": false,
    "memoryGiB": 4,
    "name": "ml.t3.medium",
    "vcpuNum": 2
   },
   {
    "_defaultOrder": 1,
    "_isFastLaunch": false,
    "category": "General purpose",
    "gpuNum": 0,
    "hideHardwareSpecs": false,
    "memoryGiB": 8,
    "name": "ml.t3.large",
    "vcpuNum": 2
   },
   {
    "_defaultOrder": 2,
    "_isFastLaunch": false,
    "category": "General purpose",
    "gpuNum": 0,
    "hideHardwareSpecs": false,
    "memoryGiB": 16,
    "name": "ml.t3.xlarge",
    "vcpuNum": 4
   },
   {
    "_defaultOrder": 3,
    "_isFastLaunch": false,
    "category": "General purpose",
    "gpuNum": 0,
    "hideHardwareSpecs": false,
    "memoryGiB": 32,
    "name": "ml.t3.2xlarge",
    "vcpuNum": 8
   },
   {
    "_defaultOrder": 4,
    "_isFastLaunch": true,
    "category": "General purpose",
    "gpuNum": 0,
    "hideHardwareSpecs": false,
    "memoryGiB": 8,
    "name": "ml.m5.large",
    "vcpuNum": 2
   },
   {
    "_defaultOrder": 5,
    "_isFastLaunch": false,
    "category": "General purpose",
    "gpuNum": 0,
    "hideHardwareSpecs": false,
    "memoryGiB": 16,
    "name": "ml.m5.xlarge",
    "vcpuNum": 4
   },
   {
    "_defaultOrder": 6,
    "_isFastLaunch": false,
    "category": "General purpose",
    "gpuNum": 0,
    "hideHardwareSpecs": false,
    "memoryGiB": 32,
    "name": "ml.m5.2xlarge",
    "vcpuNum": 8
   },
   {
    "_defaultOrder": 7,
    "_isFastLaunch": false,
    "category": "General purpose",
    "gpuNum": 0,
    "hideHardwareSpecs": false,
    "memoryGiB": 64,
    "name": "ml.m5.4xlarge",
    "vcpuNum": 16
   },
   {
    "_defaultOrder": 8,
    "_isFastLaunch": false,
    "category": "General purpose",
    "gpuNum": 0,
    "hideHardwareSpecs": false,
    "memoryGiB": 128,
    "name": "ml.m5.8xlarge",
    "vcpuNum": 32
   },
   {
    "_defaultOrder": 9,
    "_isFastLaunch": false,
    "category": "General purpose",
    "gpuNum": 0,
    "hideHardwareSpecs": false,
    "memoryGiB": 192,
    "name": "ml.m5.12xlarge",
    "vcpuNum": 48
   },
   {
    "_defaultOrder": 10,
    "_isFastLaunch": false,
    "category": "General purpose",
    "gpuNum": 0,
    "hideHardwareSpecs": false,
    "memoryGiB": 256,
    "name": "ml.m5.16xlarge",
    "vcpuNum": 64
   },
   {
    "_defaultOrder": 11,
    "_isFastLaunch": false,
    "category": "General purpose",
    "gpuNum": 0,
    "hideHardwareSpecs": false,
    "memoryGiB": 384,
    "name": "ml.m5.24xlarge",
    "vcpuNum": 96
   },
   {
    "_defaultOrder": 12,
    "_isFastLaunch": false,
    "category": "General purpose",
    "gpuNum": 0,
    "hideHardwareSpecs": false,
    "memoryGiB": 8,
    "name": "ml.m5d.large",
    "vcpuNum": 2
   },
   {
    "_defaultOrder": 13,
    "_isFastLaunch": false,
    "category": "General purpose",
    "gpuNum": 0,
    "hideHardwareSpecs": false,
    "memoryGiB": 16,
    "name": "ml.m5d.xlarge",
    "vcpuNum": 4
   },
   {
    "_defaultOrder": 14,
    "_isFastLaunch": false,
    "category": "General purpose",
    "gpuNum": 0,
    "hideHardwareSpecs": false,
    "memoryGiB": 32,
    "name": "ml.m5d.2xlarge",
    "vcpuNum": 8
   },
   {
    "_defaultOrder": 15,
    "_isFastLaunch": false,
    "category": "General purpose",
    "gpuNum": 0,
    "hideHardwareSpecs": false,
    "memoryGiB": 64,
    "name": "ml.m5d.4xlarge",
    "vcpuNum": 16
   },
   {
    "_defaultOrder": 16,
    "_isFastLaunch": false,
    "category": "General purpose",
    "gpuNum": 0,
    "hideHardwareSpecs": false,
    "memoryGiB": 128,
    "name": "ml.m5d.8xlarge",
    "vcpuNum": 32
   },
   {
    "_defaultOrder": 17,
    "_isFastLaunch": false,
    "category": "General purpose",
    "gpuNum": 0,
    "hideHardwareSpecs": false,
    "memoryGiB": 192,
    "name": "ml.m5d.12xlarge",
    "vcpuNum": 48
   },
   {
    "_defaultOrder": 18,
    "_isFastLaunch": false,
    "category": "General purpose",
    "gpuNum": 0,
    "hideHardwareSpecs": false,
    "memoryGiB": 256,
    "name": "ml.m5d.16xlarge",
    "vcpuNum": 64
   },
   {
    "_defaultOrder": 19,
    "_isFastLaunch": false,
    "category": "General purpose",
    "gpuNum": 0,
    "hideHardwareSpecs": false,
    "memoryGiB": 384,
    "name": "ml.m5d.24xlarge",
    "vcpuNum": 96
   },
   {
    "_defaultOrder": 20,
    "_isFastLaunch": false,
    "category": "General purpose",
    "gpuNum": 0,
    "hideHardwareSpecs": true,
    "memoryGiB": 0,
    "name": "ml.geospatial.interactive",
    "supportedImageNames": [
     "sagemaker-geospatial-v1-0"
    ],
    "vcpuNum": 0
   },
   {
    "_defaultOrder": 21,
    "_isFastLaunch": true,
    "category": "Compute optimized",
    "gpuNum": 0,
    "hideHardwareSpecs": false,
    "memoryGiB": 4,
    "name": "ml.c5.large",
    "vcpuNum": 2
   },
   {
    "_defaultOrder": 22,
    "_isFastLaunch": false,
    "category": "Compute optimized",
    "gpuNum": 0,
    "hideHardwareSpecs": false,
    "memoryGiB": 8,
    "name": "ml.c5.xlarge",
    "vcpuNum": 4
   },
   {
    "_defaultOrder": 23,
    "_isFastLaunch": false,
    "category": "Compute optimized",
    "gpuNum": 0,
    "hideHardwareSpecs": false,
    "memoryGiB": 16,
    "name": "ml.c5.2xlarge",
    "vcpuNum": 8
   },
   {
    "_defaultOrder": 24,
    "_isFastLaunch": false,
    "category": "Compute optimized",
    "gpuNum": 0,
    "hideHardwareSpecs": false,
    "memoryGiB": 32,
    "name": "ml.c5.4xlarge",
    "vcpuNum": 16
   },
   {
    "_defaultOrder": 25,
    "_isFastLaunch": false,
    "category": "Compute optimized",
    "gpuNum": 0,
    "hideHardwareSpecs": false,
    "memoryGiB": 72,
    "name": "ml.c5.9xlarge",
    "vcpuNum": 36
   },
   {
    "_defaultOrder": 26,
    "_isFastLaunch": false,
    "category": "Compute optimized",
    "gpuNum": 0,
    "hideHardwareSpecs": false,
    "memoryGiB": 96,
    "name": "ml.c5.12xlarge",
    "vcpuNum": 48
   },
   {
    "_defaultOrder": 27,
    "_isFastLaunch": false,
    "category": "Compute optimized",
    "gpuNum": 0,
    "hideHardwareSpecs": false,
    "memoryGiB": 144,
    "name": "ml.c5.18xlarge",
    "vcpuNum": 72
   },
   {
    "_defaultOrder": 28,
    "_isFastLaunch": false,
    "category": "Compute optimized",
    "gpuNum": 0,
    "hideHardwareSpecs": false,
    "memoryGiB": 192,
    "name": "ml.c5.24xlarge",
    "vcpuNum": 96
   },
   {
    "_defaultOrder": 29,
    "_isFastLaunch": true,
    "category": "Accelerated computing",
    "gpuNum": 1,
    "hideHardwareSpecs": false,
    "memoryGiB": 16,
    "name": "ml.g4dn.xlarge",
    "vcpuNum": 4
   },
   {
    "_defaultOrder": 30,
    "_isFastLaunch": false,
    "category": "Accelerated computing",
    "gpuNum": 1,
    "hideHardwareSpecs": false,
    "memoryGiB": 32,
    "name": "ml.g4dn.2xlarge",
    "vcpuNum": 8
   },
   {
    "_defaultOrder": 31,
    "_isFastLaunch": false,
    "category": "Accelerated computing",
    "gpuNum": 1,
    "hideHardwareSpecs": false,
    "memoryGiB": 64,
    "name": "ml.g4dn.4xlarge",
    "vcpuNum": 16
   },
   {
    "_defaultOrder": 32,
    "_isFastLaunch": false,
    "category": "Accelerated computing",
    "gpuNum": 1,
    "hideHardwareSpecs": false,
    "memoryGiB": 128,
    "name": "ml.g4dn.8xlarge",
    "vcpuNum": 32
   },
   {
    "_defaultOrder": 33,
    "_isFastLaunch": false,
    "category": "Accelerated computing",
    "gpuNum": 4,
    "hideHardwareSpecs": false,
    "memoryGiB": 192,
    "name": "ml.g4dn.12xlarge",
    "vcpuNum": 48
   },
   {
    "_defaultOrder": 34,
    "_isFastLaunch": false,
    "category": "Accelerated computing",
    "gpuNum": 1,
    "hideHardwareSpecs": false,
    "memoryGiB": 256,
    "name": "ml.g4dn.16xlarge",
    "vcpuNum": 64
   },
   {
    "_defaultOrder": 35,
    "_isFastLaunch": false,
    "category": "Accelerated computing",
    "gpuNum": 1,
    "hideHardwareSpecs": false,
    "memoryGiB": 61,
    "name": "ml.p3.2xlarge",
    "vcpuNum": 8
   },
   {
    "_defaultOrder": 36,
    "_isFastLaunch": false,
    "category": "Accelerated computing",
    "gpuNum": 4,
    "hideHardwareSpecs": false,
    "memoryGiB": 244,
    "name": "ml.p3.8xlarge",
    "vcpuNum": 32
   },
   {
    "_defaultOrder": 37,
    "_isFastLaunch": false,
    "category": "Accelerated computing",
    "gpuNum": 8,
    "hideHardwareSpecs": false,
    "memoryGiB": 488,
    "name": "ml.p3.16xlarge",
    "vcpuNum": 64
   },
   {
    "_defaultOrder": 38,
    "_isFastLaunch": false,
    "category": "Accelerated computing",
    "gpuNum": 8,
    "hideHardwareSpecs": false,
    "memoryGiB": 768,
    "name": "ml.p3dn.24xlarge",
    "vcpuNum": 96
   },
   {
    "_defaultOrder": 39,
    "_isFastLaunch": false,
    "category": "Memory Optimized",
    "gpuNum": 0,
    "hideHardwareSpecs": false,
    "memoryGiB": 16,
    "name": "ml.r5.large",
    "vcpuNum": 2
   },
   {
    "_defaultOrder": 40,
    "_isFastLaunch": false,
    "category": "Memory Optimized",
    "gpuNum": 0,
    "hideHardwareSpecs": false,
    "memoryGiB": 32,
    "name": "ml.r5.xlarge",
    "vcpuNum": 4
   },
   {
    "_defaultOrder": 41,
    "_isFastLaunch": false,
    "category": "Memory Optimized",
    "gpuNum": 0,
    "hideHardwareSpecs": false,
    "memoryGiB": 64,
    "name": "ml.r5.2xlarge",
    "vcpuNum": 8
   },
   {
    "_defaultOrder": 42,
    "_isFastLaunch": false,
    "category": "Memory Optimized",
    "gpuNum": 0,
    "hideHardwareSpecs": false,
    "memoryGiB": 128,
    "name": "ml.r5.4xlarge",
    "vcpuNum": 16
   },
   {
    "_defaultOrder": 43,
    "_isFastLaunch": false,
    "category": "Memory Optimized",
    "gpuNum": 0,
    "hideHardwareSpecs": false,
    "memoryGiB": 256,
    "name": "ml.r5.8xlarge",
    "vcpuNum": 32
   },
   {
    "_defaultOrder": 44,
    "_isFastLaunch": false,
    "category": "Memory Optimized",
    "gpuNum": 0,
    "hideHardwareSpecs": false,
    "memoryGiB": 384,
    "name": "ml.r5.12xlarge",
    "vcpuNum": 48
   },
   {
    "_defaultOrder": 45,
    "_isFastLaunch": false,
    "category": "Memory Optimized",
    "gpuNum": 0,
    "hideHardwareSpecs": false,
    "memoryGiB": 512,
    "name": "ml.r5.16xlarge",
    "vcpuNum": 64
   },
   {
    "_defaultOrder": 46,
    "_isFastLaunch": false,
    "category": "Memory Optimized",
    "gpuNum": 0,
    "hideHardwareSpecs": false,
    "memoryGiB": 768,
    "name": "ml.r5.24xlarge",
    "vcpuNum": 96
   },
   {
    "_defaultOrder": 47,
    "_isFastLaunch": false,
    "category": "Accelerated computing",
    "gpuNum": 1,
    "hideHardwareSpecs": false,
    "memoryGiB": 16,
    "name": "ml.g5.xlarge",
    "vcpuNum": 4
   },
   {
    "_defaultOrder": 48,
    "_isFastLaunch": false,
    "category": "Accelerated computing",
    "gpuNum": 1,
    "hideHardwareSpecs": false,
    "memoryGiB": 32,
    "name": "ml.g5.2xlarge",
    "vcpuNum": 8
   },
   {
    "_defaultOrder": 49,
    "_isFastLaunch": false,
    "category": "Accelerated computing",
    "gpuNum": 1,
    "hideHardwareSpecs": false,
    "memoryGiB": 64,
    "name": "ml.g5.4xlarge",
    "vcpuNum": 16
   },
   {
    "_defaultOrder": 50,
    "_isFastLaunch": false,
    "category": "Accelerated computing",
    "gpuNum": 1,
    "hideHardwareSpecs": false,
    "memoryGiB": 128,
    "name": "ml.g5.8xlarge",
    "vcpuNum": 32
   },
   {
    "_defaultOrder": 51,
    "_isFastLaunch": false,
    "category": "Accelerated computing",
    "gpuNum": 1,
    "hideHardwareSpecs": false,
    "memoryGiB": 256,
    "name": "ml.g5.16xlarge",
    "vcpuNum": 64
   },
   {
    "_defaultOrder": 52,
    "_isFastLaunch": false,
    "category": "Accelerated computing",
    "gpuNum": 4,
    "hideHardwareSpecs": false,
    "memoryGiB": 192,
    "name": "ml.g5.12xlarge",
    "vcpuNum": 48
   },
   {
    "_defaultOrder": 53,
    "_isFastLaunch": false,
    "category": "Accelerated computing",
    "gpuNum": 4,
    "hideHardwareSpecs": false,
    "memoryGiB": 384,
    "name": "ml.g5.24xlarge",
    "vcpuNum": 96
   },
   {
    "_defaultOrder": 54,
    "_isFastLaunch": false,
    "category": "Accelerated computing",
    "gpuNum": 8,
    "hideHardwareSpecs": false,
    "memoryGiB": 768,
    "name": "ml.g5.48xlarge",
    "vcpuNum": 192
   },
   {
    "_defaultOrder": 55,
    "_isFastLaunch": false,
    "category": "Accelerated computing",
    "gpuNum": 8,
    "hideHardwareSpecs": false,
    "memoryGiB": 1152,
    "name": "ml.p4d.24xlarge",
    "vcpuNum": 96
   },
   {
    "_defaultOrder": 56,
    "_isFastLaunch": false,
    "category": "Accelerated computing",
    "gpuNum": 8,
    "hideHardwareSpecs": false,
    "memoryGiB": 1152,
    "name": "ml.p4de.24xlarge",
    "vcpuNum": 96
   },
   {
    "_defaultOrder": 57,
    "_isFastLaunch": false,
    "category": "Accelerated computing",
    "gpuNum": 0,
    "hideHardwareSpecs": false,
    "memoryGiB": 32,
    "name": "ml.trn1.2xlarge",
    "vcpuNum": 8
   },
   {
    "_defaultOrder": 58,
    "_isFastLaunch": false,
    "category": "Accelerated computing",
    "gpuNum": 0,
    "hideHardwareSpecs": false,
    "memoryGiB": 512,
    "name": "ml.trn1.32xlarge",
    "vcpuNum": 128
   },
   {
    "_defaultOrder": 59,
    "_isFastLaunch": false,
    "category": "Accelerated computing",
    "gpuNum": 0,
    "hideHardwareSpecs": false,
    "memoryGiB": 512,
    "name": "ml.trn1n.32xlarge",
    "vcpuNum": 128
   }
  ],
  "instance_type": "ml.t3.medium",
  "kernelspec": {
   "display_name": "Python 3 (Data Science 3.0)",
   "language": "python",
   "name": "python3__SAGEMAKER_INTERNAL__arn:aws:sagemaker:eu-west-1:470317259841:image/sagemaker-data-science-310-v1"
  },
  "language_info": {
   "codemirror_mode": {
    "name": "ipython",
    "version": 3
   },
   "file_extension": ".py",
   "mimetype": "text/x-python",
   "name": "python",
   "nbconvert_exporter": "python",
   "pygments_lexer": "ipython3",
   "version": "3.10.6"
  }
 },
 "nbformat": 4,
 "nbformat_minor": 5
}
